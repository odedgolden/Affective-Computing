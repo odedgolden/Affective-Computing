{
  "nbformat": 4,
  "nbformat_minor": 0,
  "metadata": {
    "colab": {
      "name": "Quora-Insincere-Questions-Classification.ipynb",
      "provenance": [],
      "collapsed_sections": [],
      "machine_shape": "hm"
    },
    "kernelspec": {
      "name": "python3",
      "display_name": "Python 3"
    },
    "accelerator": "GPU"
  },
  "cells": [
    {
      "cell_type": "code",
      "metadata": {
        "id": "GUVIu7Szs34K",
        "colab_type": "code",
        "colab": {}
      },
      "source": [
        "needs_installations = False\n",
        "needs_data_preparation = False\n",
        "should_train_models = True"
      ],
      "execution_count": 0,
      "outputs": []
    },
    {
      "cell_type": "markdown",
      "metadata": {
        "id": "F3vPe-_j1ugy",
        "colab_type": "text"
      },
      "source": [
        "##Kaggle Integration"
      ]
    },
    {
      "cell_type": "markdown",
      "metadata": {
        "id": "k8Lh2dDfusli",
        "colab_type": "text"
      },
      "source": [
        "Upload kaggle.json file"
      ]
    },
    {
      "cell_type": "code",
      "metadata": {
        "id": "fRJKSBfMlYwd",
        "colab_type": "code",
        "colab": {}
      },
      "source": [
        "if needs_installations:\n",
        "  from google.colab import files\n",
        "  files.upload()"
      ],
      "execution_count": 0,
      "outputs": []
    },
    {
      "cell_type": "code",
      "metadata": {
        "id": "nedILXEXouD4",
        "colab_type": "code",
        "colab": {}
      },
      "source": [
        "if needs_installations:\n",
        "  !ls -lha kaggle.json"
      ],
      "execution_count": 0,
      "outputs": []
    },
    {
      "cell_type": "code",
      "metadata": {
        "id": "xtkAZZg1ktQx",
        "colab_type": "code",
        "colab": {}
      },
      "source": [
        "if needs_installations:\n",
        "  !pip install -q kaggle"
      ],
      "execution_count": 0,
      "outputs": []
    },
    {
      "cell_type": "code",
      "metadata": {
        "id": "ro3R3Ekhl828",
        "colab_type": "code",
        "colab": {}
      },
      "source": [
        "if needs_installations:\n",
        "  !mkdir -p ~/.kaggle\n",
        "  !cp kaggle.json ~/.kaggle/\n",
        "  !chmod 600 ~/.kaggle/kaggle.json"
      ],
      "execution_count": 0,
      "outputs": []
    },
    {
      "cell_type": "code",
      "metadata": {
        "id": "Q7acoN3VlBe7",
        "colab_type": "code",
        "colab": {}
      },
      "source": [
        "if needs_installations:\n",
        "  !kaggle competitions download -c quora-insincere-questions-classification -p /content/drive/My\\ Drive/Colab\\ Notebooks/Research/Quora/zips/"
      ],
      "execution_count": 0,
      "outputs": []
    },
    {
      "cell_type": "markdown",
      "metadata": {
        "id": "qm47_7qC13wR",
        "colab_type": "text"
      },
      "source": [
        "##Imports"
      ]
    },
    {
      "cell_type": "code",
      "metadata": {
        "id": "dtBt19CfsKHP",
        "colab_type": "code",
        "outputId": "517843ec-de0a-4615-969a-26b19dffe2d7",
        "colab": {
          "base_uri": "https://localhost:8080/",
          "height": 156
        }
      },
      "source": [
        "# Basic Stuff\n",
        "import numpy as np\n",
        "import pandas as pd\n",
        "from time import time, ctime\n",
        "import random\n",
        "\n",
        "# Basic Machine Learning Stuff\n",
        "from sklearn.linear_model import LogisticRegression\n",
        "from sklearn.naive_bayes import GaussianNB\n",
        "from sklearn.utils import resample\n",
        "from sklearn.model_selection import train_test_split\n",
        "from xgboost import XGBClassifier\n",
        "\n",
        "# NLP Stuff\n",
        "from gensim.models.keyedvectors import KeyedVectors\n",
        "from gensim.scripts.glove2word2vec import glove2word2vec\n",
        "import nltk\n",
        "from nltk.tokenize import sent_tokenize, word_tokenize\n",
        "nltk.download('punkt')\n",
        "\n",
        "# Deep Learning Stuff\n",
        "import torch\n",
        "import torch.nn as nn\n",
        "import torch.nn.functional as F\n",
        "from torch.nn.parameter import Parameter\n",
        "from torch.utils.data import Dataset, DataLoader\n",
        "\n",
        "# Visualization Stuff\n",
        "import matplotlib.pyplot as plt\n",
        "import seaborn as sns\n",
        "sns.set(style=\"darkgrid\")\n",
        "\n",
        "\n",
        "# Drive Stuff\n",
        "import urllib.request\n",
        "import zipfile\n",
        "import sys\n",
        "import os\n",
        "import pickle\n",
        "import gc\n",
        "from google.colab import drive\n",
        "drive.mount('/content/drive')"
      ],
      "execution_count": 8,
      "outputs": [
        {
          "output_type": "stream",
          "text": [
            "[nltk_data] Downloading package punkt to /root/nltk_data...\n",
            "[nltk_data]   Unzipping tokenizers/punkt.zip.\n",
            "Go to this URL in a browser: https://accounts.google.com/o/oauth2/auth?client_id=947318989803-6bn6qk8qdgf4n4g3pfee6491hc0brc4i.apps.googleusercontent.com&redirect_uri=urn%3Aietf%3Awg%3Aoauth%3A2.0%3Aoob&scope=email%20https%3A%2F%2Fwww.googleapis.com%2Fauth%2Fdocs.test%20https%3A%2F%2Fwww.googleapis.com%2Fauth%2Fdrive%20https%3A%2F%2Fwww.googleapis.com%2Fauth%2Fdrive.photos.readonly%20https%3A%2F%2Fwww.googleapis.com%2Fauth%2Fpeopleapi.readonly&response_type=code\n",
            "\n",
            "Enter your authorization code:\n",
            "··········\n",
            "Mounted at /content/drive\n"
          ],
          "name": "stdout"
        }
      ]
    },
    {
      "cell_type": "code",
      "metadata": {
        "id": "7qU0Az80mW94",
        "colab_type": "code",
        "colab": {}
      },
      "source": [
        "root_path = '/content/drive/My Drive/Colab Notebooks/Research/Quora/'\n",
        "zips_path = 'zips/'\n",
        "data_path = 'data/'\n",
        "obj_path = 'obj/'"
      ],
      "execution_count": 0,
      "outputs": []
    },
    {
      "cell_type": "markdown",
      "metadata": {
        "id": "raWEiB5Z189t",
        "colab_type": "text"
      },
      "source": [
        "#Data Loading"
      ]
    },
    {
      "cell_type": "markdown",
      "metadata": {
        "id": "LOH6-U4U2Equ",
        "colab_type": "text"
      },
      "source": [
        "##Prepare Files"
      ]
    },
    {
      "cell_type": "code",
      "metadata": {
        "id": "1VD6co3rPNQh",
        "colab_type": "code",
        "colab": {}
      },
      "source": [
        "def save_obj(obj, name ):\n",
        "    with open(root_path + obj_path + name + '.pkl', 'wb+') as f:\n",
        "        pickle.dump(obj, f, pickle.HIGHEST_PROTOCOL)\n",
        "\n",
        "def load_obj(name ):\n",
        "  if os.path.isfile(root_path + obj_path + name + '.pkl'):\n",
        "    with open(root_path + obj_path + name + '.pkl', 'rb') as f:\n",
        "          return pickle.load(f)"
      ],
      "execution_count": 0,
      "outputs": []
    },
    {
      "cell_type": "code",
      "metadata": {
        "id": "kDJtDzwu1__r",
        "colab_type": "code",
        "colab": {}
      },
      "source": [
        "if needs_data_preparation:\n",
        "  root_dir = os.listdir(root_path)\n",
        "  zips_dir = os.listdir(root_path+zips_path)\n",
        "  print(zips_dir)"
      ],
      "execution_count": 0,
      "outputs": []
    },
    {
      "cell_type": "code",
      "metadata": {
        "id": "1Z0vaJpi2b9i",
        "colab_type": "code",
        "colab": {}
      },
      "source": [
        "if needs_data_preparation:\n",
        "  for zip_file_name in zips_dir:\n",
        "    with zipfile.ZipFile(root_path+zips_path+zip_file_name, 'r') as zip_ref:\n",
        "      print('Extracting: '+root_path+zips_path+zip_file_name)\n",
        "      zip_ref.extractall(root_path+data_path)"
      ],
      "execution_count": 0,
      "outputs": []
    },
    {
      "cell_type": "code",
      "metadata": {
        "id": "cd5-WbcN3Ubv",
        "colab_type": "code",
        "colab": {}
      },
      "source": [
        "if needs_data_preparation:\n",
        "  data_dir = os.listdir(root_path+data_path)\n",
        "  print(data_dir)"
      ],
      "execution_count": 0,
      "outputs": []
    },
    {
      "cell_type": "code",
      "metadata": {
        "id": "uLPDN5PADV-P",
        "colab_type": "code",
        "colab": {}
      },
      "source": [
        "test_data = pd.read_csv(root_path+data_path+'test.csv') \n",
        "sample_submission = pd.read_csv(root_path+data_path+'sample_submission.csv') "
      ],
      "execution_count": 0,
      "outputs": []
    },
    {
      "cell_type": "markdown",
      "metadata": {
        "id": "3in4DJYUGmZ3",
        "colab_type": "text"
      },
      "source": [
        "###1. qid - unique question identifier\n",
        "###2. question_text - Quora question text\n",
        "###3. target - a question labeled \"insincere\" has a value of 1, otherwise 0"
      ]
    },
    {
      "cell_type": "code",
      "metadata": {
        "id": "E1ddoFI0iPAp",
        "colab_type": "code",
        "outputId": "5d211503-5ac2-4266-b672-7437da9e6e79",
        "colab": {
          "base_uri": "https://localhost:8080/",
          "height": 396
        }
      },
      "source": [
        "if needs_data_preparation:\n",
        "  train_data = pd.read_csv(root_path+data_path+'train.csv') \n",
        "  train_data['question_length'] = train_data.apply(lambda x: len(word_tokenize(x['question_text'])),axis=1)\n",
        "  train_data.to_csv(root_path+data_path+'train_data_with_length.csv')\n",
        "else:\n",
        "  train_data = pd.read_csv(root_path+data_path+'train_data_with_length.csv',index_col=0) \n",
        "\n",
        "m = np.max(train_data['question_length'])\n",
        "max_sentence = train_data.iloc[train_data['question_length'].idxmax()]['question_text']\n",
        "avg = np.mean(train_data['question_length'])\n",
        "print(\"Longesst Sentence Length: \"+str(m))\n",
        "print(\"Average Sentence Length: \"+str(avg))\n",
        "print(\"Longesst Sentence: \"+str(max_sentence))\n",
        "train_data['question_length'].hist(bins=128)"
      ],
      "execution_count": 15,
      "outputs": [
        {
          "output_type": "stream",
          "text": [
            "/usr/local/lib/python3.6/dist-packages/numpy/lib/arraysetops.py:569: FutureWarning: elementwise comparison failed; returning scalar instead, but in the future will perform elementwise comparison\n",
            "  mask |= (ar1 == a)\n"
          ],
          "name": "stderr"
        },
        {
          "output_type": "stream",
          "text": [
            "Longesst Sentence Length: 412\n",
            "Average Sentence Length: 14.44675688794768\n",
            "Longesst Sentence: What is [math]\\frac{\\int_{1x^5}^{3x^{-5}} \\tan(\\tan({\\boxed{\\int_{1x^0}^{1x^2} \\sum_{\\varpi=1}^{\\infty} \\int_{2x^{-3}}^{2x^2} \\sum_{\\alpha=7}^{\\infty} \\underbrace{\\sqrt[2]{1x^5}}_{\\text{Gauss's Law of Theoretical Probability.}} d\\tau dx}}^{1x^0})) d\\mu}{\\int_{2x^{-3}}^{1x^5} \\cos(\\int_{2x^2}^{1x^{-3}} \\frac{\\sqrt[2]{\\overbrace{\\underbrace{\\frac{3x^3+3x^5}{\\sqrt[3]{2x^{-3}}}}_{\\text{Gauss's Law of Theoretical Probability.}} \\times \\overbrace{\\tan(2x^0)}^{\\text{Gauss's Law of Theoretical Probability.}}-\\sum_{4=7}^{\\infty} \\boxed{3x^{-5}}}^{\\text{Inverse Function.}}}}{{\\boxed{\\int_{2x^2}^{2x^4} 3x^1 d9} \\div \\sum_{6=6}^{\\infty} \\sqrt[3]{2x^2}+\\sqrt[4]{\\sin(2x^0+3x^0)}}^{2x^{-4}}+\\boxed{\\frac{\\vec{\\boxed{\\sum_{\\gamma=10}^{\\infty} 1x^{-5}}}}{\\frac{\\sum_{\\iota=2}^{\\infty} 1x^{-5}-\\frac{3x^{-1}}{1x^{-4}}}{\\sin(\\tan(3x^{-2}))}}}} \\times \\boxed{\\sqrt[2]{{{{\\sqrt[5]{2x^5}}^{2x^{-1}}}^{2x^{-1}} \\div \\sum_{\\chi=6}^{\\infty} \\int_{1x^4}^{2x^{-4}} 3x^2 d\\vartheta+{2x^{-3}}^{2x^{-5}}}^{3x^{-4}}}} d\\mu) d\\iota}[/math]?\n"
          ],
          "name": "stdout"
        },
        {
          "output_type": "execute_result",
          "data": {
            "text/plain": [
              "<matplotlib.axes._subplots.AxesSubplot at 0x7f76f12baa58>"
            ]
          },
          "metadata": {
            "tags": []
          },
          "execution_count": 15
        },
        {
          "output_type": "display_data",
          "data": {
            "image/png": "[encoded data removed]",
            "text/plain": [
              "<Figure size 432x288 with 1 Axes>"
            ]
          },
          "metadata": {
            "tags": []
          }
        }
      ]
    },
    {
      "cell_type": "code",
      "metadata": {
        "id": "kQOLyPo2GYto",
        "colab_type": "code",
        "outputId": "09c71090-71e7-484a-c77b-ac6decfda714",
        "colab": {
          "base_uri": "https://localhost:8080/",
          "height": 80
        }
      },
      "source": [
        "pd.set_option('max_colwidth', 128)\n",
        "train_data.head(1)"
      ],
      "execution_count": 16,
      "outputs": [
        {
          "output_type": "execute_result",
          "data": {
            "text/html": [
              "<div>\n",
              "<style scoped>\n",
              "    .dataframe tbody tr th:only-of-type {\n",
              "        vertical-align: middle;\n",
              "    }\n",
              "\n",
              "    .dataframe tbody tr th {\n",
              "        vertical-align: top;\n",
              "    }\n",
              "\n",
              "    .dataframe thead th {\n",
              "        text-align: right;\n",
              "    }\n",
              "</style>\n",
              "<table border=\"1\" class=\"dataframe\">\n",
              "  <thead>\n",
              "    <tr style=\"text-align: right;\">\n",
              "      <th></th>\n",
              "      <th>qid</th>\n",
              "      <th>question_text</th>\n",
              "      <th>target</th>\n",
              "      <th>question_length</th>\n",
              "    </tr>\n",
              "  </thead>\n",
              "  <tbody>\n",
              "    <tr>\n",
              "      <th>0</th>\n",
              "      <td>00002165364db923c7e6</td>\n",
              "      <td>How did Quebec nationalists see their province as a nation in the 1960s?</td>\n",
              "      <td>0</td>\n",
              "      <td>14</td>\n",
              "    </tr>\n",
              "  </tbody>\n",
              "</table>\n",
              "</div>"
            ],
            "text/plain": [
              "                    qid  ... question_length\n",
              "0  00002165364db923c7e6  ...              14\n",
              "\n",
              "[1 rows x 4 columns]"
            ]
          },
          "metadata": {
            "tags": []
          },
          "execution_count": 16
        }
      ]
    },
    {
      "cell_type": "code",
      "metadata": {
        "id": "NToYINNUtld4",
        "colab_type": "code",
        "outputId": "c90080fc-c8a5-4cdb-d17a-07085d76a155",
        "colab": {
          "base_uri": "https://localhost:8080/",
          "height": 291
        }
      },
      "source": [
        "train_data[train_data['question_length']<32]['question_length'].hist(bins=32)"
      ],
      "execution_count": 17,
      "outputs": [
        {
          "output_type": "execute_result",
          "data": {
            "text/plain": [
              "<matplotlib.axes._subplots.AxesSubplot at 0x7f76f79ac550>"
            ]
          },
          "metadata": {
            "tags": []
          },
          "execution_count": 17
        },
        {
          "output_type": "display_data",
          "data": {
            "image/png": "[encoded data removed]",
            "text/plain": [
              "<Figure size 432x288 with 1 Axes>"
            ]
          },
          "metadata": {
            "tags": []
          }
        }
      ]
    },
    {
      "cell_type": "code",
      "metadata": {
        "id": "VgpSlVm6Gb7R",
        "colab_type": "code",
        "colab": {}
      },
      "source": [
        "pos_data = train_data[train_data['target']==1]\n",
        "neg_data = train_data[train_data['target']==0]"
      ],
      "execution_count": 0,
      "outputs": []
    },
    {
      "cell_type": "code",
      "metadata": {
        "id": "Xl5cXINYZGso",
        "colab_type": "code",
        "colab": {
          "base_uri": "https://localhost:8080/",
          "height": 142
        },
        "outputId": "0a4cc3a2-dba1-45bf-8f19-f988358dc433"
      },
      "source": [
        "neg_data.head(3)"
      ],
      "execution_count": 19,
      "outputs": [
        {
          "output_type": "execute_result",
          "data": {
            "text/html": [
              "<div>\n",
              "<style scoped>\n",
              "    .dataframe tbody tr th:only-of-type {\n",
              "        vertical-align: middle;\n",
              "    }\n",
              "\n",
              "    .dataframe tbody tr th {\n",
              "        vertical-align: top;\n",
              "    }\n",
              "\n",
              "    .dataframe thead th {\n",
              "        text-align: right;\n",
              "    }\n",
              "</style>\n",
              "<table border=\"1\" class=\"dataframe\">\n",
              "  <thead>\n",
              "    <tr style=\"text-align: right;\">\n",
              "      <th></th>\n",
              "      <th>qid</th>\n",
              "      <th>question_text</th>\n",
              "      <th>target</th>\n",
              "      <th>question_length</th>\n",
              "    </tr>\n",
              "  </thead>\n",
              "  <tbody>\n",
              "    <tr>\n",
              "      <th>0</th>\n",
              "      <td>00002165364db923c7e6</td>\n",
              "      <td>How did Quebec nationalists see their province as a nation in the 1960s?</td>\n",
              "      <td>0</td>\n",
              "      <td>14</td>\n",
              "    </tr>\n",
              "    <tr>\n",
              "      <th>1</th>\n",
              "      <td>000032939017120e6e44</td>\n",
              "      <td>Do you have an adopted dog, how would you encourage people to adopt and not shop?</td>\n",
              "      <td>0</td>\n",
              "      <td>18</td>\n",
              "    </tr>\n",
              "    <tr>\n",
              "      <th>2</th>\n",
              "      <td>0000412ca6e4628ce2cf</td>\n",
              "      <td>Why does velocity affect time? Does velocity affect space geometry?</td>\n",
              "      <td>0</td>\n",
              "      <td>12</td>\n",
              "    </tr>\n",
              "  </tbody>\n",
              "</table>\n",
              "</div>"
            ],
            "text/plain": [
              "                    qid  ... question_length\n",
              "0  00002165364db923c7e6  ...              14\n",
              "1  000032939017120e6e44  ...              18\n",
              "2  0000412ca6e4628ce2cf  ...              12\n",
              "\n",
              "[3 rows x 4 columns]"
            ]
          },
          "metadata": {
            "tags": []
          },
          "execution_count": 19
        }
      ]
    },
    {
      "cell_type": "code",
      "metadata": {
        "id": "2T1nZLtRZOy2",
        "colab_type": "code",
        "colab": {
          "base_uri": "https://localhost:8080/",
          "height": 142
        },
        "outputId": "23c6314c-c2a1-4ac9-b027-2ae1c74c58f0"
      },
      "source": [
        "pos_data.head(3)"
      ],
      "execution_count": 20,
      "outputs": [
        {
          "output_type": "execute_result",
          "data": {
            "text/html": [
              "<div>\n",
              "<style scoped>\n",
              "    .dataframe tbody tr th:only-of-type {\n",
              "        vertical-align: middle;\n",
              "    }\n",
              "\n",
              "    .dataframe tbody tr th {\n",
              "        vertical-align: top;\n",
              "    }\n",
              "\n",
              "    .dataframe thead th {\n",
              "        text-align: right;\n",
              "    }\n",
              "</style>\n",
              "<table border=\"1\" class=\"dataframe\">\n",
              "  <thead>\n",
              "    <tr style=\"text-align: right;\">\n",
              "      <th></th>\n",
              "      <th>qid</th>\n",
              "      <th>question_text</th>\n",
              "      <th>target</th>\n",
              "      <th>question_length</th>\n",
              "    </tr>\n",
              "  </thead>\n",
              "  <tbody>\n",
              "    <tr>\n",
              "      <th>22</th>\n",
              "      <td>0000e91571b60c2fb487</td>\n",
              "      <td>Has the United States become the largest dictatorship in the world?</td>\n",
              "      <td>1</td>\n",
              "      <td>12</td>\n",
              "    </tr>\n",
              "    <tr>\n",
              "      <th>30</th>\n",
              "      <td>00013ceca3f624b09f42</td>\n",
              "      <td>Which babies are more sweeter to their parents? Dark skin babies or light skin babies?</td>\n",
              "      <td>1</td>\n",
              "      <td>17</td>\n",
              "    </tr>\n",
              "    <tr>\n",
              "      <th>110</th>\n",
              "      <td>0004a7fcb2bf73076489</td>\n",
              "      <td>If blacks support school choice and mandatory sentencing for criminals why don't they vote Republican?</td>\n",
              "      <td>1</td>\n",
              "      <td>17</td>\n",
              "    </tr>\n",
              "  </tbody>\n",
              "</table>\n",
              "</div>"
            ],
            "text/plain": [
              "                      qid  ... question_length\n",
              "22   0000e91571b60c2fb487  ...              12\n",
              "30   00013ceca3f624b09f42  ...              17\n",
              "110  0004a7fcb2bf73076489  ...              17\n",
              "\n",
              "[3 rows x 4 columns]"
            ]
          },
          "metadata": {
            "tags": []
          },
          "execution_count": 20
        }
      ]
    },
    {
      "cell_type": "code",
      "metadata": {
        "id": "7uwU9oiBJZm5",
        "colab_type": "code",
        "outputId": "55fe8484-7d97-4ba6-ef49-c39a538123a4",
        "colab": {
          "base_uri": "https://localhost:8080/",
          "height": 85
        }
      },
      "source": [
        "print(\"There are total of \"+str(train_data.size)+\" samples\")\n",
        "print(\"There are \"+str(pos_data.size)+\" positive samples (insincere)\")\n",
        "print(\"There are \"+str(neg_data.size)+\" negative samples (sincere)\")\n",
        "print(\"Ratio is: %.3f\" % (pos_data.size/neg_data.size))"
      ],
      "execution_count": 21,
      "outputs": [
        {
          "output_type": "stream",
          "text": [
            "There are total of 5224488 samples\n",
            "There are 323240 positive samples (insincere)\n",
            "There are 4901248 negative samples (sincere)\n",
            "Ratio is: 0.066\n"
          ],
          "name": "stdout"
        }
      ]
    },
    {
      "cell_type": "code",
      "metadata": {
        "id": "gNYHZ2JFHzsU",
        "colab_type": "code",
        "outputId": "14382b01-347c-4493-b18e-0ba99858d72e",
        "colab": {
          "base_uri": "https://localhost:8080/",
          "height": 159
        }
      },
      "source": [
        "train_data_balanced = pd.concat([resample(neg_data,replace = False,n_samples = len(pos_data)), pos_data])\n",
        "print(\"There are total of \"+str(train_data_balanced.shape)+\" samples\")\n",
        "train_data_balanced.head(3)"
      ],
      "execution_count": 22,
      "outputs": [
        {
          "output_type": "stream",
          "text": [
            "There are total of (161620, 4) samples\n"
          ],
          "name": "stdout"
        },
        {
          "output_type": "execute_result",
          "data": {
            "text/html": [
              "<div>\n",
              "<style scoped>\n",
              "    .dataframe tbody tr th:only-of-type {\n",
              "        vertical-align: middle;\n",
              "    }\n",
              "\n",
              "    .dataframe tbody tr th {\n",
              "        vertical-align: top;\n",
              "    }\n",
              "\n",
              "    .dataframe thead th {\n",
              "        text-align: right;\n",
              "    }\n",
              "</style>\n",
              "<table border=\"1\" class=\"dataframe\">\n",
              "  <thead>\n",
              "    <tr style=\"text-align: right;\">\n",
              "      <th></th>\n",
              "      <th>qid</th>\n",
              "      <th>question_text</th>\n",
              "      <th>target</th>\n",
              "      <th>question_length</th>\n",
              "    </tr>\n",
              "  </thead>\n",
              "  <tbody>\n",
              "    <tr>\n",
              "      <th>321222</th>\n",
              "      <td>3ef4fc9c0ff6b72f949b</td>\n",
              "      <td>How can one find peace in this hullabaloo of the world?</td>\n",
              "      <td>0</td>\n",
              "      <td>12</td>\n",
              "    </tr>\n",
              "    <tr>\n",
              "      <th>167120</th>\n",
              "      <td>20a6443fa129ab48fdfb</td>\n",
              "      <td>How many student called for counselling in BHU for social science?</td>\n",
              "      <td>0</td>\n",
              "      <td>12</td>\n",
              "    </tr>\n",
              "    <tr>\n",
              "      <th>253878</th>\n",
              "      <td>31afe34074608380a609</td>\n",
              "      <td>What are the importance of trees in human life?</td>\n",
              "      <td>0</td>\n",
              "      <td>10</td>\n",
              "    </tr>\n",
              "  </tbody>\n",
              "</table>\n",
              "</div>"
            ],
            "text/plain": [
              "                         qid  ... question_length\n",
              "321222  3ef4fc9c0ff6b72f949b  ...              12\n",
              "167120  20a6443fa129ab48fdfb  ...              12\n",
              "253878  31afe34074608380a609  ...              10\n",
              "\n",
              "[3 rows x 4 columns]"
            ]
          },
          "metadata": {
            "tags": []
          },
          "execution_count": 22
        }
      ]
    },
    {
      "cell_type": "markdown",
      "metadata": {
        "id": "KfllsaBtQcbw",
        "colab_type": "text"
      },
      "source": [
        "###Resample Data"
      ]
    },
    {
      "cell_type": "code",
      "metadata": {
        "id": "QNXPKq1Z3dKU",
        "colab_type": "code",
        "outputId": "4fb346e4-4cdd-43c8-d005-12f8e712ab62",
        "colab": {
          "base_uri": "https://localhost:8080/",
          "height": 80
        }
      },
      "source": [
        "X,y = train_data_balanced.iloc[:,:2],train_data_balanced.iloc[:,2]\n",
        "X_train, X_test, y_train, y_test = train_test_split(X, y, test_size=0.20, random_state=42)\n",
        "number_of_samples = 50000\n",
        "updated_train_data_resampled = pd.concat([X_train, y_train],axis=1)\n",
        "train_data_balanced_resampled = resample(updated_train_data_resampled,replace = False,n_samples = number_of_samples)\n",
        "X_train_resampled, y_train_resampled = train_data_balanced_resampled.iloc[:,:2],train_data_balanced_resampled.iloc[:,2]\n",
        "chosen_question_length = 32\n",
        "word_vector_size = 300\n",
        "X_train_resampled.head(1)"
      ],
      "execution_count": 23,
      "outputs": [
        {
          "output_type": "execute_result",
          "data": {
            "text/html": [
              "<div>\n",
              "<style scoped>\n",
              "    .dataframe tbody tr th:only-of-type {\n",
              "        vertical-align: middle;\n",
              "    }\n",
              "\n",
              "    .dataframe tbody tr th {\n",
              "        vertical-align: top;\n",
              "    }\n",
              "\n",
              "    .dataframe thead th {\n",
              "        text-align: right;\n",
              "    }\n",
              "</style>\n",
              "<table border=\"1\" class=\"dataframe\">\n",
              "  <thead>\n",
              "    <tr style=\"text-align: right;\">\n",
              "      <th></th>\n",
              "      <th>qid</th>\n",
              "      <th>question_text</th>\n",
              "    </tr>\n",
              "  </thead>\n",
              "  <tbody>\n",
              "    <tr>\n",
              "      <th>499569</th>\n",
              "      <td>61cdf66a268622a197e0</td>\n",
              "      <td>Is Matt Damon's IQ actually 160?</td>\n",
              "    </tr>\n",
              "  </tbody>\n",
              "</table>\n",
              "</div>"
            ],
            "text/plain": [
              "                         qid                     question_text\n",
              "499569  61cdf66a268622a197e0  Is Matt Damon's IQ actually 160?"
            ]
          },
          "metadata": {
            "tags": []
          },
          "execution_count": 23
        }
      ]
    },
    {
      "cell_type": "markdown",
      "metadata": {
        "id": "nUmdyeTOmniZ",
        "colab_type": "text"
      },
      "source": [
        "## Embeddings"
      ]
    },
    {
      "cell_type": "markdown",
      "metadata": {
        "id": "jecYUN7p7Vgx",
        "colab_type": "text"
      },
      "source": [
        "###Challenges:\n",
        "1. Sentences are in different lengths\n",
        "2. Sequence order does matter"
      ]
    },
    {
      "cell_type": "code",
      "metadata": {
        "id": "kuR0ck8ySPby",
        "colab_type": "code",
        "outputId": "4f18f02e-794e-4cc7-b03b-25184e080be1",
        "colab": {
          "base_uri": "https://localhost:8080/",
          "height": 204
        }
      },
      "source": [
        "data_dir = os.listdir(root_path+data_path)\n",
        "data_dir"
      ],
      "execution_count": 0,
      "outputs": [
        {
          "output_type": "execute_result",
          "data": {
            "text/plain": [
              "['train.csv',\n",
              " 'GoogleNews-vectors-negative300',\n",
              " 'glove.840B.300d',\n",
              " 'paragram_300_sl999',\n",
              " 'wiki-news-300d-1M',\n",
              " 'sample_submission.csv',\n",
              " 'test.csv',\n",
              " 'gensim_glove_vectors.txt',\n",
              " 'train_data_with_length.csv',\n",
              " 'paragram_glove_vectors.txt',\n",
              " 'gensim_paragram_vectors.txt']"
            ]
          },
          "metadata": {
            "tags": []
          },
          "execution_count": 20
        }
      ]
    },
    {
      "cell_type": "code",
      "metadata": {
        "id": "NxD6W-LSdCox",
        "colab_type": "code",
        "colab": {}
      },
      "source": [
        "class QIQModel:\n",
        "  def run_on_all(self,X_train,y_train,X_test,y_test):\n",
        "    results = []\n",
        "    results.append(self.run_on_model(X_train,y_train,X_test,y_test,self.get_glove_embeddings()))\n",
        "    results.append(self.run_on_model(X_train,y_train,X_test,y_test,self.get_google_news_embeddings()))\n",
        "    results.append(self.run_on_model(X_train,y_train,X_test,y_test,self.get_wiki_news_embeddings()))\n",
        "    return results\n",
        "\n",
        "  def run_on_model(self,X_train,y_train,X_test,y_test,embeddings):\n",
        "    X_train,y_train,X_test,y_test = self.prepare_data(X_train,y_train,X_test,y_test,embeddings)\n",
        "    result = self.run(X_train,y_train,X_test,y_test)\n",
        "    print(result)\n",
        "    return result\n",
        "\n",
        "  def run(self,X_train,y_train,X_test,y_test):\n",
        "    return 0.0\n",
        "\n",
        "  def prepare_data(self,X_train,y_train,X_test,y_test,embeddings):\n",
        "    chosen_question_length = 32\n",
        "    word_vector_size = 300\n",
        "\n",
        "    X_train_vectorized = self.reduce_dim_from_3_to_2(self.vectorize(X_train,chosen_question_length,word_vector_size,embeddings))\n",
        "    X_test_vectorized = self.reduce_dim_from_3_to_2(self.vectorize(X_test,chosen_question_length,word_vector_size,embeddings))\n",
        "\n",
        "    return X_train_vectorized,y_train,X_test_vectorized,y_test\n",
        "\n",
        "  def reduce_dim_from_3_to_2(self,X):\n",
        "    nsamples, nx, ny = X.shape\n",
        "    return X.reshape((nsamples,nx*ny))\n",
        "\n",
        "  def vectorize(self,X,chosen_question_length,word_vector_size,embeddings):\n",
        "    X_vectorized = np.empty((X.shape[0],chosen_question_length,word_vector_size))\n",
        "    for i in range(X.shape[0]):\n",
        "      current_sentence = word_tokenize(X.iloc[i]['question_text'])\n",
        "      for j in range(chosen_question_length):\n",
        "        if j<len(current_sentence) and current_sentence[j] in embeddings:\n",
        "          X_vectorized[i,j] = embeddings[current_sentence[j]]\n",
        "        else:\n",
        "          X_vectorized[i,j] = np.zeros((300,))\n",
        "      if i % 10000 ==0:\n",
        "        print(i,end =\"-\")\n",
        "    return X_vectorized  \n",
        "\n",
        "  def get_glove_embeddings(self):\n",
        "    if needs_data_preparation:\n",
        "      glove2word2vec(glove_input_file=root_path+data_path+'glove.840B.300d/glove.840B.300d.txt', word2vec_output_file=root_path+data_path+\"gensim_glove_vectors.txt\")    \n",
        "    return KeyedVectors.load_word2vec_format(root_path+data_path+\"gensim_glove_vectors.txt\", binary=False)\n",
        "  def get_google_news_embeddings(self):\n",
        "    return KeyedVectors.load_word2vec_format(root_path+data_path+'GoogleNews-vectors-negative300/GoogleNews-vectors-negative300.bin', binary=True)\n",
        "  # TODO: fix this one\n",
        "  def get_paragram_embeddings(self):\n",
        "    if needs_data_preparation:\n",
        "      glove2word2vec(glove_input_file=root_path+data_path+'paragram_300_sl999/paragram_300_sl999.txt', word2vec_output_file=root_path+data_path+\"gensim_paragram_vectors.txt\")\n",
        "    paragram_model = KeyedVectors.load_word2vec_format(root_path+data_path+'paragram_300_sl999/paragram_300_sl999.txt', binary=False)\n",
        "    return paragram_model\n",
        "  def get_wiki_news_embeddings(self):\n",
        "    return KeyedVectors.load_word2vec_format(root_path+data_path+'wiki-news-300d-1M/wiki-news-300d-1M.vec', binary=False)\n"
      ],
      "execution_count": 0,
      "outputs": []
    },
    {
      "cell_type": "markdown",
      "metadata": {
        "id": "eUeEOMjaPSPK",
        "colab_type": "text"
      },
      "source": [
        "###Sanity Check"
      ]
    },
    {
      "cell_type": "code",
      "metadata": {
        "id": "KMSu3iTsf2sW",
        "colab_type": "code",
        "colab": {}
      },
      "source": [
        "# m = QIQModel()\n",
        "# embed = m.get_wiki_news_embeddings()\n",
        "# print(embed['Hello'].shape)\n",
        "# del m\n",
        "# del embed\n",
        "# gc.collect()"
      ],
      "execution_count": 0,
      "outputs": []
    },
    {
      "cell_type": "code",
      "metadata": {
        "id": "VwsWVR-2XfIw",
        "colab_type": "code",
        "outputId": "c3cfd844-6133-44a9-cfb0-307e94447535",
        "colab": {
          "base_uri": "https://localhost:8080/",
          "height": 34
        }
      },
      "source": [
        "X_train_resampled.shape"
      ],
      "execution_count": 22,
      "outputs": [
        {
          "output_type": "execute_result",
          "data": {
            "text/plain": [
              "(50000, 2)"
            ]
          },
          "metadata": {
            "tags": []
          },
          "execution_count": 22
        }
      ]
    },
    {
      "cell_type": "markdown",
      "metadata": {
        "id": "k6ZHxwvTpOse",
        "colab_type": "text"
      },
      "source": [
        "##Baseline Models"
      ]
    },
    {
      "cell_type": "markdown",
      "metadata": {
        "id": "ozmbUvdXpTue",
        "colab_type": "text"
      },
      "source": [
        "###Logistic Regression"
      ]
    },
    {
      "cell_type": "code",
      "metadata": {
        "id": "4-UbQZjkIyq7",
        "colab_type": "code",
        "colab": {}
      },
      "source": [
        "class LRModel(QIQModel):\n",
        "  def run(self,X_train,y_train,X_test,y_test):\n",
        "    clf = LogisticRegression(random_state=0, solver='lbfgs', multi_class='multinomial').fit(X_train, y_train)\n",
        "    print(clf)\n",
        "    return clf.score(X_test, y_test)"
      ],
      "execution_count": 0,
      "outputs": []
    },
    {
      "cell_type": "code",
      "metadata": {
        "id": "afW9jxEGR3wb",
        "colab_type": "code",
        "outputId": "4862181f-faee-4cd0-bc26-49005c6465f8",
        "colab": {
          "base_uri": "https://localhost:8080/",
          "height": 564
        }
      },
      "source": [
        "lr = LRModel()\n",
        "results = lr.run_on_all(X_train_resampled, y_train_resampled, X_test, y_test)\n",
        "results"
      ],
      "execution_count": 0,
      "outputs": [
        {
          "output_type": "stream",
          "text": [
            "/usr/local/lib/python3.6/dist-packages/smart_open/smart_open_lib.py:398: UserWarning: This function is deprecated, use smart_open.open instead. See the migration notes for details: https://github.com/RaRe-Technologies/smart_open/blob/master/README.rst#migrating-to-the-new-open-function\n",
            "  'See the migration notes for details: %s' % _MIGRATION_NOTES_URL\n"
          ],
          "name": "stderr"
        },
        {
          "output_type": "stream",
          "text": [
            "0-10000-20000-30000-40000-0-10000-20000-30000-"
          ],
          "name": "stdout"
        },
        {
          "output_type": "stream",
          "text": [
            "/usr/local/lib/python3.6/dist-packages/sklearn/linear_model/logistic.py:947: ConvergenceWarning: lbfgs failed to converge. Increase the number of iterations.\n",
            "  \"of iterations.\", ConvergenceWarning)\n"
          ],
          "name": "stderr"
        },
        {
          "output_type": "stream",
          "text": [
            "LogisticRegression(C=1.0, class_weight=None, dual=False, fit_intercept=True,\n",
            "                   intercept_scaling=1, l1_ratio=None, max_iter=100,\n",
            "                   multi_class='multinomial', n_jobs=None, penalty='l2',\n",
            "                   random_state=0, solver='lbfgs', tol=0.0001, verbose=0,\n",
            "                   warm_start=False)\n",
            "0.8457492884543992\n"
          ],
          "name": "stdout"
        },
        {
          "output_type": "stream",
          "text": [
            "/usr/local/lib/python3.6/dist-packages/smart_open/smart_open_lib.py:398: UserWarning: This function is deprecated, use smart_open.open instead. See the migration notes for details: https://github.com/RaRe-Technologies/smart_open/blob/master/README.rst#migrating-to-the-new-open-function\n",
            "  'See the migration notes for details: %s' % _MIGRATION_NOTES_URL\n"
          ],
          "name": "stderr"
        },
        {
          "output_type": "stream",
          "text": [
            "0-10000-20000-30000-40000-0-10000-20000-30000-"
          ],
          "name": "stdout"
        },
        {
          "output_type": "stream",
          "text": [
            "/usr/local/lib/python3.6/dist-packages/sklearn/linear_model/logistic.py:947: ConvergenceWarning: lbfgs failed to converge. Increase the number of iterations.\n",
            "  \"of iterations.\", ConvergenceWarning)\n"
          ],
          "name": "stderr"
        },
        {
          "output_type": "stream",
          "text": [
            "LogisticRegression(C=1.0, class_weight=None, dual=False, fit_intercept=True,\n",
            "                   intercept_scaling=1, l1_ratio=None, max_iter=100,\n",
            "                   multi_class='multinomial', n_jobs=None, penalty='l2',\n",
            "                   random_state=0, solver='lbfgs', tol=0.0001, verbose=0,\n",
            "                   warm_start=False)\n",
            "0.8410778369013736\n"
          ],
          "name": "stdout"
        },
        {
          "output_type": "stream",
          "text": [
            "/usr/local/lib/python3.6/dist-packages/smart_open/smart_open_lib.py:398: UserWarning: This function is deprecated, use smart_open.open instead. See the migration notes for details: https://github.com/RaRe-Technologies/smart_open/blob/master/README.rst#migrating-to-the-new-open-function\n",
            "  'See the migration notes for details: %s' % _MIGRATION_NOTES_URL\n"
          ],
          "name": "stderr"
        },
        {
          "output_type": "stream",
          "text": [
            "0-10000-20000-30000-40000-0-10000-20000-30000-"
          ],
          "name": "stdout"
        },
        {
          "output_type": "stream",
          "text": [
            "/usr/local/lib/python3.6/dist-packages/sklearn/linear_model/logistic.py:947: ConvergenceWarning: lbfgs failed to converge. Increase the number of iterations.\n",
            "  \"of iterations.\", ConvergenceWarning)\n"
          ],
          "name": "stderr"
        },
        {
          "output_type": "stream",
          "text": [
            "LogisticRegression(C=1.0, class_weight=None, dual=False, fit_intercept=True,\n",
            "                   intercept_scaling=1, l1_ratio=None, max_iter=100,\n",
            "                   multi_class='multinomial', n_jobs=None, penalty='l2',\n",
            "                   random_state=0, solver='lbfgs', tol=0.0001, verbose=0,\n",
            "                   warm_start=False)\n",
            "0.8527409974013117\n"
          ],
          "name": "stdout"
        },
        {
          "output_type": "execute_result",
          "data": {
            "text/plain": [
              "[0.8457492884543992, 0.8410778369013736, 0.8527409974013117]"
            ]
          },
          "metadata": {
            "tags": []
          },
          "execution_count": 45
        }
      ]
    },
    {
      "cell_type": "markdown",
      "metadata": {
        "id": "1W4LNK07pZjO",
        "colab_type": "text"
      },
      "source": [
        "###Naive Baise"
      ]
    },
    {
      "cell_type": "code",
      "metadata": {
        "id": "oIXuSGDuX23Q",
        "colab_type": "code",
        "colab": {}
      },
      "source": [
        "class GNBModel(QIQModel):\n",
        "  def run(self,X_train,y_train,X_test,y_test):\n",
        "    gnb = GaussianNB().fit(X_train, y_train)\n",
        "    print(gnb)\n",
        "    return gnb.score(X_test, y_test)"
      ],
      "execution_count": 0,
      "outputs": []
    },
    {
      "cell_type": "code",
      "metadata": {
        "id": "wmZBD9D3l9xK",
        "colab_type": "code",
        "outputId": "403c9a20-376a-4c67-a339-2e5643b58b0b",
        "colab": {
          "base_uri": "https://localhost:8080/",
          "height": 258
        }
      },
      "source": [
        "gnb = GNBModel()\n",
        "results = gnb.run_on_all(X_train_resampled, y_train_resampled, X_test, y_test)\n",
        "results"
      ],
      "execution_count": 24,
      "outputs": [
        {
          "output_type": "stream",
          "text": [
            "/usr/local/lib/python3.6/dist-packages/smart_open/smart_open_lib.py:398: UserWarning: This function is deprecated, use smart_open.open instead. See the migration notes for details: https://github.com/RaRe-Technologies/smart_open/blob/master/README.rst#migrating-to-the-new-open-function\n",
            "  'See the migration notes for details: %s' % _MIGRATION_NOTES_URL\n"
          ],
          "name": "stderr"
        },
        {
          "output_type": "stream",
          "text": [
            "0-10000-20000-30000-40000-0-10000-20000-30000-GaussianNB(priors=None, var_smoothing=1e-09)\n",
            "0.6191993565152828\n"
          ],
          "name": "stdout"
        },
        {
          "output_type": "stream",
          "text": [
            "/usr/local/lib/python3.6/dist-packages/smart_open/smart_open_lib.py:398: UserWarning: This function is deprecated, use smart_open.open instead. See the migration notes for details: https://github.com/RaRe-Technologies/smart_open/blob/master/README.rst#migrating-to-the-new-open-function\n",
            "  'See the migration notes for details: %s' % _MIGRATION_NOTES_URL\n"
          ],
          "name": "stderr"
        },
        {
          "output_type": "stream",
          "text": [
            "0-10000-20000-30000-40000-0-10000-20000-30000-GaussianNB(priors=None, var_smoothing=1e-09)\n",
            "0.6204987006558594\n"
          ],
          "name": "stdout"
        },
        {
          "output_type": "stream",
          "text": [
            "/usr/local/lib/python3.6/dist-packages/smart_open/smart_open_lib.py:398: UserWarning: This function is deprecated, use smart_open.open instead. See the migration notes for details: https://github.com/RaRe-Technologies/smart_open/blob/master/README.rst#migrating-to-the-new-open-function\n",
            "  'See the migration notes for details: %s' % _MIGRATION_NOTES_URL\n"
          ],
          "name": "stderr"
        },
        {
          "output_type": "stream",
          "text": [
            "0-10000-20000-30000-40000-0-10000-20000-30000-GaussianNB(priors=None, var_smoothing=1e-09)\n",
            "0.6195396609330528\n"
          ],
          "name": "stdout"
        },
        {
          "output_type": "execute_result",
          "data": {
            "text/plain": [
              "[0.6191993565152828, 0.6204987006558594, 0.6195396609330528]"
            ]
          },
          "metadata": {
            "tags": []
          },
          "execution_count": 24
        }
      ]
    },
    {
      "cell_type": "markdown",
      "metadata": {
        "id": "7QTPTuFxYG93",
        "colab_type": "text"
      },
      "source": [
        "###XGBoost"
      ]
    },
    {
      "cell_type": "code",
      "metadata": {
        "id": "IWy9SuokYNwK",
        "colab_type": "code",
        "colab": {}
      },
      "source": [
        "class XGBModel(QIQModel):\n",
        "  def run(self,X_train,y_train,X_test,y_test):\n",
        "    gbm = XGBClassifier()\n",
        "    print(gbm)\n",
        "    gbm.fit(X_train, y_train)\n",
        "    return gbm.score(X_test, y_test)"
      ],
      "execution_count": 0,
      "outputs": []
    },
    {
      "cell_type": "code",
      "metadata": {
        "id": "f3EE6igvLcQh",
        "colab_type": "code",
        "outputId": "deac2b7e-a110-4149-9c15-d9258b050791",
        "colab": {
          "base_uri": "https://localhost:8080/",
          "height": 88
        }
      },
      "source": [
        "xgb = XGBModel()\n",
        "results = xgb.run_on_all(X_train_resampled, y_train_resampled, X_test, y_test)\n",
        "results"
      ],
      "execution_count": 0,
      "outputs": [
        {
          "output_type": "stream",
          "text": [
            "/usr/local/lib/python3.6/dist-packages/smart_open/smart_open_lib.py:398: UserWarning: This function is deprecated, use smart_open.open instead. See the migration notes for details: https://github.com/RaRe-Technologies/smart_open/blob/master/README.rst#migrating-to-the-new-open-function\n",
            "  'See the migration notes for details: %s' % _MIGRATION_NOTES_URL\n"
          ],
          "name": "stderr"
        },
        {
          "output_type": "stream",
          "text": [
            "0-10000-20000-30000-40000-0-10000-20000-30000-"
          ],
          "name": "stdout"
        }
      ]
    },
    {
      "cell_type": "code",
      "metadata": {
        "id": "UgcomhLuF5YS",
        "colab_type": "code",
        "colab": {}
      },
      "source": [
        "def predict(clf,sentnce):\n",
        "  X_vectorized = np.empty((1,chosen_question_length,word_vector_size))\n",
        "  current_sentence = word_tokenize(sentnce)\n",
        "  for j in range(chosen_question_length):\n",
        "    if j<len(current_sentence) and current_sentence[j] in glove_model:\n",
        "      X_vectorized[0,j] = glove_model[current_sentence[j]]\n",
        "    else:\n",
        "      X_vectorized[0,j] = np.zeros((300,))\n",
        "  return clf.predict(X_vectorized.reshape(1,chosen_question_length*word_vector_size))"
      ],
      "execution_count": 0,
      "outputs": []
    },
    {
      "cell_type": "code",
      "metadata": {
        "id": "Nd4MX2r0dgYb",
        "colab_type": "code",
        "outputId": "75f8d3ec-a11d-402c-ca96-1d1f04f92052",
        "colab": {
          "base_uri": "https://localhost:8080/",
          "height": 102
        }
      },
      "source": [
        "lets_have_fun = [\"What is wrong with fat ass?\",\"What is love?\",\"What is wrong with fat milk?\",\"Do Arabs eat humus?\",\"Do aliens exist?\"]\n",
        "\n",
        "for s in lets_have_fun:\n",
        "  result = predict(clf,s)\n",
        "  print(s+'\\t is '+ ('insincere' if predict(clf,s)[0] else 'sincere'))"
      ],
      "execution_count": 0,
      "outputs": [
        {
          "output_type": "stream",
          "text": [
            "What is wrong with fat ass?\t is insincere\n",
            "What is love?\t is sincere\n",
            "What is wrong with fat milk?\t is insincere\n",
            "Do Arabs eat humus?\t is insincere\n",
            "Do aliens exist?\t is sincere\n"
          ],
          "name": "stdout"
        }
      ]
    },
    {
      "cell_type": "code",
      "metadata": {
        "id": "aJ-bV_v6dpUj",
        "colab_type": "code",
        "colab": {}
      },
      "source": [
        ""
      ],
      "execution_count": 0,
      "outputs": []
    },
    {
      "cell_type": "markdown",
      "metadata": {
        "id": "1zPDJ4glpnwt",
        "colab_type": "text"
      },
      "source": [
        "##Baseline Results"
      ]
    },
    {
      "cell_type": "code",
      "metadata": {
        "id": "AzOa_1ZXprMm",
        "colab_type": "code",
        "outputId": "f7a099e6-1ace-468e-a0eb-a6f0cd7ce7dc",
        "colab": {
          "base_uri": "https://localhost:8080/",
          "height": 142
        }
      },
      "source": [
        "results = np.array([[0.8457492884543992, 0.8410778369013736, 0.8527409974013117],[0.6191993565152828, 0.6204987006558594, 0.6195396609330528]]).T\n",
        "summery_df = pd.DataFrame(results, columns=['Logistic Regression', 'Gaussian Naive Bayes'])\n",
        "summery_df.index.name = 'Embeddings'\n",
        "summery_df.index = ['Glove','Google News','Wiki News']\n",
        "summery_df.head()"
      ],
      "execution_count": 36,
      "outputs": [
        {
          "output_type": "execute_result",
          "data": {
            "text/html": [
              "<div>\n",
              "<style scoped>\n",
              "    .dataframe tbody tr th:only-of-type {\n",
              "        vertical-align: middle;\n",
              "    }\n",
              "\n",
              "    .dataframe tbody tr th {\n",
              "        vertical-align: top;\n",
              "    }\n",
              "\n",
              "    .dataframe thead th {\n",
              "        text-align: right;\n",
              "    }\n",
              "</style>\n",
              "<table border=\"1\" class=\"dataframe\">\n",
              "  <thead>\n",
              "    <tr style=\"text-align: right;\">\n",
              "      <th></th>\n",
              "      <th>Logistic Regression</th>\n",
              "      <th>Gaussian Naive Bayes</th>\n",
              "    </tr>\n",
              "  </thead>\n",
              "  <tbody>\n",
              "    <tr>\n",
              "      <th>Glove</th>\n",
              "      <td>0.845749</td>\n",
              "      <td>0.619199</td>\n",
              "    </tr>\n",
              "    <tr>\n",
              "      <th>Google News</th>\n",
              "      <td>0.841078</td>\n",
              "      <td>0.620499</td>\n",
              "    </tr>\n",
              "    <tr>\n",
              "      <th>Wiki News</th>\n",
              "      <td>0.852741</td>\n",
              "      <td>0.619540</td>\n",
              "    </tr>\n",
              "  </tbody>\n",
              "</table>\n",
              "</div>"
            ],
            "text/plain": [
              "             Logistic Regression  Gaussian Naive Bayes\n",
              "Glove                   0.845749              0.619199\n",
              "Google News             0.841078              0.620499\n",
              "Wiki News               0.852741              0.619540"
            ]
          },
          "metadata": {
            "tags": []
          },
          "execution_count": 36
        }
      ]
    },
    {
      "cell_type": "code",
      "metadata": {
        "id": "SYMVsTrczhUh",
        "colab_type": "code",
        "colab": {}
      },
      "source": [
        "class QuoraDataset(Dataset):\n",
        "  def __init__(self,X_train,y_train):\n",
        "    print(\"Init QuoraDataset at: \"+str(ctime()))\n",
        "    self.X_train = X_train\n",
        "    self.y_train = y_train\n",
        "    self.embeddings = self.get_wiki_news_embeddings()\n",
        "    print(\"Finish init QuoraDataset at: \"+str(ctime()))\n",
        "\n",
        "  def get_glove_embeddings(self):\n",
        "    return KeyedVectors.load_word2vec_format(root_path+data_path+\"gensim_glove_vectors.txt\", binary=False)\n",
        "\n",
        "  def get_wiki_news_embeddings(self):\n",
        "    return KeyedVectors.load_word2vec_format(root_path+data_path+'wiki-news-300d-1M/wiki-news-300d-1M.vec', binary=False)\n",
        "   \n",
        "  def __len__(self):\n",
        "    return len(self.y_train)\n",
        "\n",
        "  def __getitem__(self, idx):\n",
        "    X = self.prepare_data(self.X_train.iloc[idx:idx+1,:])\n",
        "    return (X,self.y_train.iloc[idx])\n",
        "\n",
        "  def prepare_data(self,X_train):\n",
        "    chosen_question_length = 32\n",
        "    word_vector_size = 300\n",
        "\n",
        "    X_train_vectorized = self.vectorize(X_train,chosen_question_length,word_vector_size)\n",
        "\n",
        "    return X_train_vectorized\n",
        "\n",
        "  def vectorize(self,X,chosen_question_length,word_vector_size):\n",
        "    X_vectorized = np.empty((X.shape[0],chosen_question_length,word_vector_size))\n",
        "    for i in range(X.shape[0]):\n",
        "      current_sentence = word_tokenize(X.iloc[i]['question_text'])\n",
        "      for j in range(chosen_question_length):\n",
        "        if j<len(current_sentence) and current_sentence[j] in self.embeddings:\n",
        "          X_vectorized[i,j] = self.embeddings[current_sentence[j]]\n",
        "        else:\n",
        "          X_vectorized[i,j] = np.zeros((300,))\n",
        "    return X_vectorized  "
      ],
      "execution_count": 0,
      "outputs": []
    },
    {
      "cell_type": "code",
      "metadata": {
        "id": "UVFUbYtxjdkU",
        "colab_type": "code",
        "outputId": "8e4b0cea-2454-40ca-d896-ad054b235609",
        "colab": {
          "base_uri": "https://localhost:8080/",
          "height": 80
        }
      },
      "source": [
        "X_train.iloc[0:1,:]"
      ],
      "execution_count": 27,
      "outputs": [
        {
          "output_type": "execute_result",
          "data": {
            "text/html": [
              "<div>\n",
              "<style scoped>\n",
              "    .dataframe tbody tr th:only-of-type {\n",
              "        vertical-align: middle;\n",
              "    }\n",
              "\n",
              "    .dataframe tbody tr th {\n",
              "        vertical-align: top;\n",
              "    }\n",
              "\n",
              "    .dataframe thead th {\n",
              "        text-align: right;\n",
              "    }\n",
              "</style>\n",
              "<table border=\"1\" class=\"dataframe\">\n",
              "  <thead>\n",
              "    <tr style=\"text-align: right;\">\n",
              "      <th></th>\n",
              "      <th>qid</th>\n",
              "      <th>question_text</th>\n",
              "    </tr>\n",
              "  </thead>\n",
              "  <tbody>\n",
              "    <tr>\n",
              "      <th>264449</th>\n",
              "      <td>33bf9a08bc466a8439f2</td>\n",
              "      <td>Why do Christians in India hate Brahmins so much?</td>\n",
              "    </tr>\n",
              "  </tbody>\n",
              "</table>\n",
              "</div>"
            ],
            "text/plain": [
              "                         qid                                      question_text\n",
              "264449  33bf9a08bc466a8439f2  Why do Christians in India hate Brahmins so much?"
            ]
          },
          "metadata": {
            "tags": []
          },
          "execution_count": 27
        }
      ]
    },
    {
      "cell_type": "code",
      "metadata": {
        "id": "-oGvFZ7Q0sBp",
        "colab_type": "code",
        "outputId": "c70d11a5-5a95-43a8-aa5a-571527bd334f",
        "colab": {
          "base_uri": "https://localhost:8080/",
          "height": 105
        }
      },
      "source": [
        "quora_train_set = QuoraDataset(X_train,y_train)\n",
        "quora_dataloader = DataLoader(quora_train_set, batch_size=50, shuffle=True)"
      ],
      "execution_count": 28,
      "outputs": [
        {
          "output_type": "stream",
          "text": [
            "Init QuoraDataset at: Thu Sep 19 12:02:13 2019\n"
          ],
          "name": "stdout"
        },
        {
          "output_type": "stream",
          "text": [
            "/usr/local/lib/python3.6/dist-packages/smart_open/smart_open_lib.py:398: UserWarning: This function is deprecated, use smart_open.open instead. See the migration notes for details: https://github.com/RaRe-Technologies/smart_open/blob/master/README.rst#migrating-to-the-new-open-function\n",
            "  'See the migration notes for details: %s' % _MIGRATION_NOTES_URL\n"
          ],
          "name": "stderr"
        },
        {
          "output_type": "stream",
          "text": [
            "Finish init QuoraDataset at: Thu Sep 19 12:07:00 2019\n"
          ],
          "name": "stdout"
        }
      ]
    },
    {
      "cell_type": "code",
      "metadata": {
        "id": "ZUgS5dCatBGF",
        "colab_type": "code",
        "outputId": "0857b780-7aad-4f5f-d647-17f0e5a8b341",
        "colab": {
          "base_uri": "https://localhost:8080/",
          "height": 34
        }
      },
      "source": [
        "quora_train_set"
      ],
      "execution_count": 29,
      "outputs": [
        {
          "output_type": "execute_result",
          "data": {
            "text/plain": [
              "<__main__.QuoraDataset at 0x7f996355ee80>"
            ]
          },
          "metadata": {
            "tags": []
          },
          "execution_count": 29
        }
      ]
    },
    {
      "cell_type": "code",
      "metadata": {
        "id": "U4y0AEYozfTC",
        "colab_type": "code",
        "colab": {}
      },
      "source": [
        "class YKCNN(nn.Module):\n",
        "    def __init__(self, channels_number=1):\n",
        "      super(YKCNN, self).__init__()\n",
        "\n",
        "      self.conv1 = nn.Conv2d(in_channels=channels_number, out_channels=100, kernel_size=(5,300),stride=(1,1), padding=(2,0))\n",
        "      # self.conv1 = nn.Conv2d(in_channels=channels_number, out_channels=100, kernel_size=(7,300),stride=(1,1), padding=(3,0))\n",
        "      self.fc1 = nn.Linear(in_features = 600, out_features = 2)\n",
        "      # self.batch_norm = nn.BatchNorm1d(num_features=120)\n",
        "\n",
        "    def forward(self, x):\n",
        "        x = x.float()\n",
        "        x = F.max_pool2d(torch.tanh(self.conv1(x)), (5,300))\n",
        "        # x = F.max_pool2d(F.tanh(self.conv2(x)), (5,300))\n",
        "        x = x.view(-1, self.num_flat_features(x))\n",
        "        # print(\"I'm inlove with the shape of x: \"+str(x.shape)+\" after flattening\")\n",
        "        x = F.dropout(x)\n",
        "        x = self.fc1(x)\n",
        "        # print(\"I'm inlove with the shape of x: \"+str(x.shape)+\" after fc1\")\n",
        "        # x = self.batch_norm(x)\n",
        "        x = F.log_softmax(x,dim=0)\n",
        "        return x\n",
        "\n",
        "    def num_flat_features(self, x):\n",
        "        size = x.size()[1:]  # all dimensions except the batch dimension\n",
        "        num_features = 1\n",
        "        for s in size:\n",
        "            num_features *= s\n",
        "        return num_features"
      ],
      "execution_count": 0,
      "outputs": []
    },
    {
      "cell_type": "code",
      "metadata": {
        "id": "AYf2iIvBYgnU",
        "colab_type": "code",
        "colab": {
          "base_uri": "https://localhost:8080/",
          "height": 34
        },
        "outputId": "27e689f2-ce5f-4e6d-8cf9-71fd803ffbdd"
      },
      "source": [
        "torch.cuda.is_available()"
      ],
      "execution_count": 31,
      "outputs": [
        {
          "output_type": "execute_result",
          "data": {
            "text/plain": [
              "True"
            ]
          },
          "metadata": {
            "tags": []
          },
          "execution_count": 31
        }
      ]
    },
    {
      "cell_type": "code",
      "metadata": {
        "id": "rpWBK4qGzH2r",
        "colab_type": "code",
        "outputId": "19da7249-a0a3-4a91-d860-c5c5ce806a8b",
        "colab": {
          "base_uri": "https://localhost:8080/",
          "height": 85
        }
      },
      "source": [
        "net = YKCNN().cuda()     # -- For GPU\n",
        "print(net)"
      ],
      "execution_count": 32,
      "outputs": [
        {
          "output_type": "stream",
          "text": [
            "YKCNN(\n",
            "  (conv1): Conv2d(1, 100, kernel_size=(5, 300), stride=(1, 1), padding=(2, 0))\n",
            "  (fc1): Linear(in_features=600, out_features=2, bias=True)\n",
            ")\n"
          ],
          "name": "stdout"
        }
      ]
    },
    {
      "cell_type": "code",
      "metadata": {
        "id": "coK-nRMxzKx3",
        "colab_type": "code",
        "colab": {}
      },
      "source": [
        "optimizer = torch.optim.Adam(net.parameters())\n",
        "criterion = nn.CrossEntropyLoss()"
      ],
      "execution_count": 0,
      "outputs": []
    },
    {
      "cell_type": "code",
      "metadata": {
        "id": "00ozySwmzPZF",
        "colab_type": "code",
        "colab": {}
      },
      "source": [
        "# training loop\n",
        "def train(net, trainloader, epochs=30):\n",
        "  loss_array = []\n",
        "  for epoch in range(epochs):  \n",
        "    torch.save(net.state_dict(), root_path+data_path+'model')\n",
        "    running_loss = 0.0\n",
        "    for i, data in enumerate(trainloader, 0):\n",
        "        # get the inputs\n",
        "        # print(\"Data Loading starts at: \"+str(ctime()))\n",
        "        # print(data[0].shape)\n",
        "        inputs, labels = data\n",
        "        # print(\"Finished fetching \"+str(len(inputs))+\" items at: \"+str(ctime()))\n",
        "\n",
        "        inputs = inputs.cuda() # -- For GPU\n",
        "        labels = labels.cuda() # -- For GPU\n",
        "\n",
        "        # zero the parameter gradients\n",
        "        optimizer.zero_grad()\n",
        "\n",
        "        # forward + backward + optimize\n",
        "        # print(inputs.shape)\n",
        "        # print(\"Forward starts at: \"+str(ctime()))\n",
        "        outputs = net(inputs)\n",
        "\n",
        "        # print(\"Loss starts at: \"+str(ctime()))\n",
        "        loss = criterion(outputs, labels)\n",
        "        # print(\"Backward starts at: \"+str(ctime()))\n",
        "        loss.backward()\n",
        "        # print(\"Optimizer starts at: \"+str(ctime()))\n",
        "        optimizer.step()\n",
        "        # print(\"Optimizer ends at: \"+str(ctime()))\n",
        "\n",
        "        # print statistics\n",
        "        # print(loss.item())\n",
        "        running_loss += loss.item()\n",
        "        if (i % 200 == 0) and (i > 0):    \n",
        "            print('%s: [%d, %5d] loss: %.3f' %\n",
        "                  (ctime().split()[3], epoch, i, running_loss / 200))\n",
        "\n",
        "            loss_array.append(running_loss / 200)\n",
        "            running_loss = 0.0\n",
        "        # print(\"Step ends at: \"+str(ctime()+\"\\n\"))\n",
        "             \n",
        "  print('Finished Training')\n",
        "  return loss_array"
      ],
      "execution_count": 0,
      "outputs": []
    },
    {
      "cell_type": "code",
      "metadata": {
        "id": "SpbD8abzTcxp",
        "colab_type": "code",
        "outputId": "69b55a7e-cd3f-4963-ffb3-1ee346fa4305",
        "colab": {
          "base_uri": "https://localhost:8080/",
          "height": 1000
        }
      },
      "source": [
        "original_loss_array = train(net, quora_dataloader)"
      ],
      "execution_count": 37,
      "outputs": [
        {
          "output_type": "stream",
          "text": [
            "12:11:29: [0,   200] loss: 0.310\n",
            "12:11:38: [0,   400] loss: 0.310\n",
            "12:11:47: [0,   600] loss: 0.305\n",
            "12:11:56: [0,   800] loss: 0.318\n",
            "12:12:05: [0,  1000] loss: 0.313\n",
            "12:12:14: [0,  1200] loss: 0.297\n",
            "12:12:23: [0,  1400] loss: 0.302\n",
            "12:12:33: [0,  1600] loss: 0.296\n",
            "12:12:42: [0,  1800] loss: 0.299\n",
            "12:12:51: [0,  2000] loss: 0.305\n",
            "12:13:00: [0,  2200] loss: 0.294\n",
            "12:13:09: [0,  2400] loss: 0.300\n",
            "12:13:27: [1,   200] loss: 0.270\n",
            "12:13:36: [1,   400] loss: 0.276\n",
            "12:13:45: [1,   600] loss: 0.286\n",
            "12:13:54: [1,   800] loss: 0.287\n",
            "12:14:04: [1,  1000] loss: 0.277\n",
            "12:14:13: [1,  1200] loss: 0.291\n",
            "12:14:23: [1,  1400] loss: 0.279\n",
            "12:14:32: [1,  1600] loss: 0.298\n",
            "12:14:41: [1,  1800] loss: 0.278\n",
            "12:14:50: [1,  2000] loss: 0.273\n",
            "12:14:59: [1,  2200] loss: 0.282\n",
            "12:15:08: [1,  2400] loss: 0.284\n",
            "12:15:26: [2,   200] loss: 0.258\n",
            "12:15:35: [2,   400] loss: 0.264\n",
            "12:15:44: [2,   600] loss: 0.281\n",
            "12:15:53: [2,   800] loss: 0.262\n",
            "12:16:03: [2,  1000] loss: 0.269\n",
            "12:16:12: [2,  1200] loss: 0.268\n",
            "12:16:21: [2,  1400] loss: 0.260\n",
            "12:16:31: [2,  1600] loss: 0.263\n",
            "12:16:40: [2,  1800] loss: 0.269\n",
            "12:16:50: [2,  2000] loss: 0.261\n",
            "12:16:59: [2,  2200] loss: 0.274\n",
            "12:17:09: [2,  2400] loss: 0.280\n",
            "12:17:27: [3,   200] loss: 0.240\n",
            "12:17:36: [3,   400] loss: 0.254\n",
            "12:17:46: [3,   600] loss: 0.254\n",
            "12:17:55: [3,   800] loss: 0.256\n",
            "12:18:05: [3,  1000] loss: 0.247\n",
            "12:18:14: [3,  1200] loss: 0.254\n",
            "12:18:23: [3,  1400] loss: 0.260\n",
            "12:18:33: [3,  1600] loss: 0.261\n",
            "12:18:42: [3,  1800] loss: 0.254\n",
            "12:18:52: [3,  2000] loss: 0.255\n",
            "12:19:01: [3,  2200] loss: 0.249\n",
            "12:19:10: [3,  2400] loss: 0.268\n",
            "12:19:29: [4,   200] loss: 0.233\n",
            "12:19:38: [4,   400] loss: 0.240\n",
            "12:19:47: [4,   600] loss: 0.225\n",
            "12:19:57: [4,   800] loss: 0.246\n",
            "12:20:06: [4,  1000] loss: 0.251\n",
            "12:20:16: [4,  1200] loss: 0.250\n",
            "12:20:25: [4,  1400] loss: 0.242\n",
            "12:20:34: [4,  1600] loss: 0.237\n",
            "12:20:44: [4,  1800] loss: 0.240\n",
            "12:20:53: [4,  2000] loss: 0.240\n",
            "12:21:03: [4,  2200] loss: 0.246\n",
            "12:21:12: [4,  2400] loss: 0.243\n",
            "12:21:30: [5,   200] loss: 0.223\n",
            "12:21:40: [5,   400] loss: 0.225\n",
            "12:21:49: [5,   600] loss: 0.235\n",
            "12:21:58: [5,   800] loss: 0.228\n",
            "12:22:08: [5,  1000] loss: 0.231\n",
            "12:22:17: [5,  1200] loss: 0.228\n",
            "12:22:26: [5,  1400] loss: 0.237\n",
            "12:22:36: [5,  1600] loss: 0.228\n",
            "12:22:45: [5,  1800] loss: 0.231\n",
            "12:22:55: [5,  2000] loss: 0.234\n",
            "12:23:04: [5,  2200] loss: 0.249\n",
            "12:23:13: [5,  2400] loss: 0.238\n",
            "12:23:31: [6,   200] loss: 0.219\n",
            "12:23:41: [6,   400] loss: 0.209\n",
            "12:23:50: [6,   600] loss: 0.215\n",
            "12:24:00: [6,   800] loss: 0.214\n",
            "12:24:09: [6,  1000] loss: 0.218\n",
            "12:24:18: [6,  1200] loss: 0.221\n",
            "12:24:28: [6,  1400] loss: 0.217\n",
            "12:24:37: [6,  1600] loss: 0.225\n",
            "12:24:47: [6,  1800] loss: 0.237\n",
            "12:24:56: [6,  2000] loss: 0.223\n",
            "12:25:06: [6,  2200] loss: 0.234\n",
            "12:25:15: [6,  2400] loss: 0.225\n",
            "12:25:33: [7,   200] loss: 0.215\n",
            "12:25:43: [7,   400] loss: 0.199\n",
            "12:25:52: [7,   600] loss: 0.209\n",
            "12:26:02: [7,   800] loss: 0.206\n",
            "12:26:11: [7,  1000] loss: 0.214\n",
            "12:26:20: [7,  1200] loss: 0.210\n",
            "12:26:30: [7,  1400] loss: 0.220\n",
            "12:26:39: [7,  1600] loss: 0.213\n",
            "12:26:48: [7,  1800] loss: 0.226\n",
            "12:26:58: [7,  2000] loss: 0.228\n",
            "12:27:07: [7,  2200] loss: 0.208\n",
            "12:27:17: [7,  2400] loss: 0.217\n",
            "12:27:35: [8,   200] loss: 0.199\n",
            "12:27:44: [8,   400] loss: 0.190\n",
            "12:27:54: [8,   600] loss: 0.202\n",
            "12:28:03: [8,   800] loss: 0.209\n",
            "12:28:13: [8,  1000] loss: 0.192\n",
            "12:28:22: [8,  1200] loss: 0.207\n",
            "12:28:32: [8,  1400] loss: 0.212\n",
            "12:28:41: [8,  1600] loss: 0.215\n",
            "12:28:51: [8,  1800] loss: 0.209\n",
            "12:29:00: [8,  2000] loss: 0.217\n",
            "12:29:09: [8,  2200] loss: 0.214\n",
            "12:29:19: [8,  2400] loss: 0.217\n",
            "12:29:37: [9,   200] loss: 0.180\n",
            "12:29:47: [9,   400] loss: 0.190\n",
            "12:29:56: [9,   600] loss: 0.188\n",
            "12:30:05: [9,   800] loss: 0.202\n",
            "12:30:15: [9,  1000] loss: 0.201\n",
            "12:30:24: [9,  1200] loss: 0.199\n",
            "12:30:34: [9,  1400] loss: 0.203\n",
            "12:30:43: [9,  1600] loss: 0.204\n",
            "12:30:53: [9,  1800] loss: 0.204\n",
            "12:31:02: [9,  2000] loss: 0.207\n",
            "12:31:12: [9,  2200] loss: 0.217\n",
            "12:31:21: [9,  2400] loss: 0.211\n",
            "12:31:39: [10,   200] loss: 0.191\n",
            "12:31:49: [10,   400] loss: 0.182\n",
            "12:31:58: [10,   600] loss: 0.189\n",
            "12:32:07: [10,   800] loss: 0.198\n",
            "12:32:17: [10,  1000] loss: 0.192\n",
            "12:32:26: [10,  1200] loss: 0.203\n",
            "12:32:36: [10,  1400] loss: 0.199\n",
            "12:32:45: [10,  1600] loss: 0.199\n",
            "12:32:55: [10,  1800] loss: 0.200\n",
            "12:33:04: [10,  2000] loss: 0.199\n",
            "12:33:13: [10,  2200] loss: 0.201\n",
            "12:33:23: [10,  2400] loss: 0.200\n",
            "12:33:41: [11,   200] loss: 0.179\n",
            "12:33:50: [11,   400] loss: 0.181\n",
            "12:34:00: [11,   600] loss: 0.187\n",
            "12:34:09: [11,   800] loss: 0.181\n",
            "12:34:18: [11,  1000] loss: 0.187\n",
            "12:34:28: [11,  1200] loss: 0.187\n",
            "12:34:37: [11,  1400] loss: 0.191\n",
            "12:34:47: [11,  1600] loss: 0.192\n",
            "12:34:56: [11,  1800] loss: 0.196\n",
            "12:35:06: [11,  2000] loss: 0.188\n",
            "12:35:15: [11,  2200] loss: 0.192\n",
            "12:35:25: [11,  2400] loss: 0.199\n",
            "12:35:43: [12,   200] loss: 0.175\n",
            "12:35:52: [12,   400] loss: 0.178\n",
            "12:36:02: [12,   600] loss: 0.172\n",
            "12:36:11: [12,   800] loss: 0.183\n",
            "12:36:21: [12,  1000] loss: 0.183\n",
            "12:36:30: [12,  1200] loss: 0.189\n",
            "12:36:39: [12,  1400] loss: 0.189\n",
            "12:36:49: [12,  1600] loss: 0.190\n",
            "12:36:58: [12,  1800] loss: 0.198\n",
            "12:37:08: [12,  2000] loss: 0.191\n",
            "12:37:17: [12,  2200] loss: 0.194\n",
            "12:37:26: [12,  2400] loss: 0.188\n",
            "12:37:44: [13,   200] loss: 0.169\n",
            "12:37:54: [13,   400] loss: 0.172\n",
            "12:38:03: [13,   600] loss: 0.174\n",
            "12:38:13: [13,   800] loss: 0.176\n",
            "12:38:22: [13,  1000] loss: 0.180\n",
            "12:38:32: [13,  1200] loss: 0.167\n",
            "12:38:41: [13,  1400] loss: 0.184\n",
            "12:38:51: [13,  1600] loss: 0.195\n",
            "12:39:00: [13,  1800] loss: 0.183\n",
            "12:39:09: [13,  2000] loss: 0.188\n",
            "12:39:19: [13,  2200] loss: 0.194\n",
            "12:39:28: [13,  2400] loss: 0.189\n",
            "12:39:46: [14,   200] loss: 0.164\n",
            "12:39:56: [14,   400] loss: 0.165\n",
            "12:40:05: [14,   600] loss: 0.166\n",
            "12:40:15: [14,   800] loss: 0.178\n",
            "12:40:24: [14,  1000] loss: 0.178\n",
            "12:40:34: [14,  1200] loss: 0.170\n",
            "12:40:43: [14,  1400] loss: 0.172\n",
            "12:40:53: [14,  1600] loss: 0.191\n",
            "12:41:02: [14,  1800] loss: 0.181\n",
            "12:41:11: [14,  2000] loss: 0.186\n",
            "12:41:21: [14,  2200] loss: 0.186\n",
            "12:41:30: [14,  2400] loss: 0.188\n",
            "12:41:49: [15,   200] loss: 0.165\n",
            "12:41:58: [15,   400] loss: 0.162\n",
            "12:42:07: [15,   600] loss: 0.154\n",
            "12:42:17: [15,   800] loss: 0.175\n",
            "12:42:26: [15,  1000] loss: 0.167\n",
            "12:42:36: [15,  1200] loss: 0.175\n",
            "12:42:45: [15,  1400] loss: 0.167\n",
            "12:42:54: [15,  1600] loss: 0.172\n",
            "12:43:04: [15,  1800] loss: 0.184\n",
            "12:43:13: [15,  2000] loss: 0.179\n",
            "12:43:23: [15,  2200] loss: 0.179\n",
            "12:43:32: [15,  2400] loss: 0.189\n",
            "12:43:50: [16,   200] loss: 0.158\n",
            "12:44:00: [16,   400] loss: 0.152\n",
            "12:44:09: [16,   600] loss: 0.165\n",
            "12:44:18: [16,   800] loss: 0.165\n",
            "12:44:28: [16,  1000] loss: 0.173\n",
            "12:44:37: [16,  1200] loss: 0.172\n",
            "12:44:47: [16,  1400] loss: 0.172\n",
            "12:44:56: [16,  1600] loss: 0.175\n",
            "12:45:06: [16,  1800] loss: 0.175\n",
            "12:45:15: [16,  2000] loss: 0.180\n",
            "12:45:24: [16,  2200] loss: 0.168\n",
            "12:45:34: [16,  2400] loss: 0.177\n",
            "12:45:52: [17,   200] loss: 0.157\n",
            "12:46:01: [17,   400] loss: 0.153\n",
            "12:46:10: [17,   600] loss: 0.163\n",
            "12:46:20: [17,   800] loss: 0.163\n",
            "12:46:29: [17,  1000] loss: 0.166\n",
            "12:46:39: [17,  1200] loss: 0.165\n",
            "12:46:48: [17,  1400] loss: 0.172\n",
            "12:46:57: [17,  1600] loss: 0.168\n",
            "12:47:07: [17,  1800] loss: 0.172\n",
            "12:47:16: [17,  2000] loss: 0.175\n",
            "12:47:26: [17,  2200] loss: 0.171\n",
            "12:47:35: [17,  2400] loss: 0.180\n",
            "12:47:53: [18,   200] loss: 0.144\n",
            "12:48:03: [18,   400] loss: 0.153\n",
            "12:48:12: [18,   600] loss: 0.157\n",
            "12:48:21: [18,   800] loss: 0.155\n",
            "12:48:31: [18,  1000] loss: 0.163\n",
            "12:48:40: [18,  1200] loss: 0.164\n",
            "12:48:50: [18,  1400] loss: 0.165\n",
            "12:48:59: [18,  1600] loss: 0.170\n",
            "12:49:09: [18,  1800] loss: 0.177\n",
            "12:49:18: [18,  2000] loss: 0.171\n",
            "12:49:27: [18,  2200] loss: 0.175\n",
            "12:49:37: [18,  2400] loss: 0.176\n",
            "12:49:55: [19,   200] loss: 0.141\n",
            "12:50:04: [19,   400] loss: 0.148\n",
            "12:50:14: [19,   600] loss: 0.152\n",
            "12:50:23: [19,   800] loss: 0.161\n",
            "12:50:33: [19,  1000] loss: 0.155\n",
            "12:50:42: [19,  1200] loss: 0.153\n",
            "12:50:52: [19,  1400] loss: 0.164\n",
            "12:51:01: [19,  1600] loss: 0.173\n",
            "12:51:11: [19,  1800] loss: 0.172\n",
            "12:51:20: [19,  2000] loss: 0.176\n",
            "12:51:30: [19,  2200] loss: 0.169\n",
            "12:51:39: [19,  2400] loss: 0.171\n",
            "12:51:57: [20,   200] loss: 0.154\n",
            "12:52:07: [20,   400] loss: 0.149\n",
            "12:52:16: [20,   600] loss: 0.146\n",
            "12:52:26: [20,   800] loss: 0.163\n",
            "12:52:35: [20,  1000] loss: 0.154\n",
            "12:52:44: [20,  1200] loss: 0.153\n",
            "12:52:54: [20,  1400] loss: 0.163\n",
            "12:53:03: [20,  1600] loss: 0.158\n",
            "12:53:12: [20,  1800] loss: 0.161\n",
            "12:53:22: [20,  2000] loss: 0.153\n",
            "12:53:31: [20,  2200] loss: 0.165\n",
            "12:53:40: [20,  2400] loss: 0.172\n",
            "12:53:59: [21,   200] loss: 0.144\n",
            "12:54:08: [21,   400] loss: 0.148\n",
            "12:54:18: [21,   600] loss: 0.154\n",
            "12:54:27: [21,   800] loss: 0.160\n",
            "12:54:37: [21,  1000] loss: 0.162\n",
            "12:54:46: [21,  1200] loss: 0.162\n",
            "12:54:55: [21,  1400] loss: 0.162\n",
            "12:55:05: [21,  1600] loss: 0.162\n",
            "12:55:14: [21,  1800] loss: 0.152\n",
            "12:55:23: [21,  2000] loss: 0.161\n",
            "12:55:33: [21,  2200] loss: 0.158\n",
            "12:55:42: [21,  2400] loss: 0.168\n",
            "12:56:00: [22,   200] loss: 0.155\n",
            "12:56:10: [22,   400] loss: 0.146\n",
            "12:56:19: [22,   600] loss: 0.138\n",
            "12:56:28: [22,   800] loss: 0.147\n",
            "12:56:38: [22,  1000] loss: 0.158\n",
            "12:56:47: [22,  1200] loss: 0.152\n",
            "12:56:56: [22,  1400] loss: 0.156\n",
            "12:57:06: [22,  1600] loss: 0.158\n",
            "12:57:15: [22,  1800] loss: 0.153\n",
            "12:57:25: [22,  2000] loss: 0.160\n",
            "12:57:34: [22,  2200] loss: 0.159\n",
            "12:57:43: [22,  2400] loss: 0.163\n",
            "12:58:02: [23,   200] loss: 0.144\n",
            "12:58:11: [23,   400] loss: 0.141\n",
            "12:58:21: [23,   600] loss: 0.144\n",
            "12:58:30: [23,   800] loss: 0.146\n",
            "12:58:39: [23,  1000] loss: 0.159\n",
            "12:58:49: [23,  1200] loss: 0.155\n",
            "12:58:58: [23,  1400] loss: 0.155\n",
            "12:59:07: [23,  1600] loss: 0.150\n",
            "12:59:17: [23,  1800] loss: 0.145\n",
            "12:59:26: [23,  2000] loss: 0.155\n",
            "12:59:36: [23,  2200] loss: 0.149\n",
            "12:59:45: [23,  2400] loss: 0.165\n",
            "13:00:03: [24,   200] loss: 0.145\n",
            "13:00:13: [24,   400] loss: 0.143\n",
            "13:00:22: [24,   600] loss: 0.137\n",
            "13:00:31: [24,   800] loss: 0.142\n",
            "13:00:41: [24,  1000] loss: 0.147\n",
            "13:00:50: [24,  1200] loss: 0.153\n",
            "13:01:00: [24,  1400] loss: 0.149\n",
            "13:01:09: [24,  1600] loss: 0.150\n",
            "13:01:19: [24,  1800] loss: 0.157\n",
            "13:01:28: [24,  2000] loss: 0.162\n",
            "13:01:37: [24,  2200] loss: 0.167\n",
            "13:01:47: [24,  2400] loss: 0.163\n",
            "13:02:05: [25,   200] loss: 0.152\n",
            "13:02:14: [25,   400] loss: 0.139\n",
            "13:02:24: [25,   600] loss: 0.143\n",
            "13:02:33: [25,   800] loss: 0.142\n",
            "13:02:42: [25,  1000] loss: 0.148\n",
            "13:02:51: [25,  1200] loss: 0.148\n",
            "13:03:01: [25,  1400] loss: 0.155\n",
            "13:03:10: [25,  1600] loss: 0.150\n",
            "13:03:20: [25,  1800] loss: 0.148\n",
            "13:03:29: [25,  2000] loss: 0.154\n",
            "13:03:38: [25,  2200] loss: 0.151\n",
            "13:03:48: [25,  2400] loss: 0.154\n",
            "13:04:06: [26,   200] loss: 0.141\n",
            "13:04:15: [26,   400] loss: 0.144\n",
            "13:04:24: [26,   600] loss: 0.145\n",
            "13:04:34: [26,   800] loss: 0.155\n",
            "13:04:43: [26,  1000] loss: 0.152\n",
            "13:04:53: [26,  1200] loss: 0.141\n",
            "13:05:02: [26,  1400] loss: 0.145\n",
            "13:05:12: [26,  1600] loss: 0.151\n",
            "13:05:21: [26,  1800] loss: 0.147\n",
            "13:05:30: [26,  2000] loss: 0.152\n",
            "13:05:40: [26,  2200] loss: 0.150\n",
            "13:05:49: [26,  2400] loss: 0.156\n",
            "13:06:07: [27,   200] loss: 0.133\n",
            "13:06:17: [27,   400] loss: 0.135\n",
            "13:06:26: [27,   600] loss: 0.140\n",
            "13:06:35: [27,   800] loss: 0.142\n",
            "13:06:45: [27,  1000] loss: 0.149\n",
            "13:06:54: [27,  1200] loss: 0.147\n",
            "13:07:04: [27,  1400] loss: 0.149\n",
            "13:07:13: [27,  1600] loss: 0.148\n",
            "13:07:23: [27,  1800] loss: 0.159\n",
            "13:07:32: [27,  2000] loss: 0.142\n",
            "13:07:42: [27,  2200] loss: 0.144\n",
            "13:07:51: [27,  2400] loss: 0.151\n",
            "13:08:09: [28,   200] loss: 0.129\n",
            "13:08:19: [28,   400] loss: 0.145\n",
            "13:08:28: [28,   600] loss: 0.136\n",
            "13:08:38: [28,   800] loss: 0.134\n",
            "13:08:47: [28,  1000] loss: 0.147\n",
            "13:08:56: [28,  1200] loss: 0.140\n",
            "13:09:06: [28,  1400] loss: 0.152\n",
            "13:09:15: [28,  1600] loss: 0.142\n",
            "13:09:25: [28,  1800] loss: 0.141\n",
            "13:09:34: [28,  2000] loss: 0.159\n",
            "13:09:43: [28,  2200] loss: 0.148\n",
            "13:09:53: [28,  2400] loss: 0.154\n",
            "13:10:11: [29,   200] loss: 0.136\n",
            "13:10:20: [29,   400] loss: 0.130\n",
            "13:10:30: [29,   600] loss: 0.136\n",
            "13:10:39: [29,   800] loss: 0.134\n",
            "13:10:49: [29,  1000] loss: 0.137\n",
            "13:10:58: [29,  1200] loss: 0.144\n",
            "13:11:08: [29,  1400] loss: 0.141\n",
            "13:11:17: [29,  1600] loss: 0.134\n",
            "13:11:26: [29,  1800] loss: 0.146\n",
            "13:11:36: [29,  2000] loss: 0.147\n",
            "13:11:45: [29,  2200] loss: 0.148\n",
            "13:11:55: [29,  2400] loss: 0.158\n",
            "Finished Training\n"
          ],
          "name": "stdout"
        }
      ]
    },
    {
      "cell_type": "code",
      "metadata": {
        "id": "FAZYMJgfsgzS",
        "colab_type": "code",
        "colab": {}
      },
      "source": [
        "# save_obj(net, 'net_conv_5')\n",
        "net = load_obj('net_conv_5')\n",
        "# save_obj(net, 'net_conv_7')"
      ],
      "execution_count": 0,
      "outputs": []
    },
    {
      "cell_type": "code",
      "metadata": {
        "id": "EDPji73TsU9C",
        "colab_type": "code",
        "colab": {
          "base_uri": "https://localhost:8080/",
          "height": 85
        },
        "outputId": "cff827b8-fdb4-45c3-c220-75b48e9692dc"
      },
      "source": [
        "net"
      ],
      "execution_count": 28,
      "outputs": [
        {
          "output_type": "execute_result",
          "data": {
            "text/plain": [
              "YKCNN(\n",
              "  (conv1): Conv2d(1, 100, kernel_size=(5, 300), stride=(1, 1), padding=(2, 0))\n",
              "  (fc1): Linear(in_features=600, out_features=2, bias=True)\n",
              ")"
            ]
          },
          "metadata": {
            "tags": []
          },
          "execution_count": 28
        }
      ]
    },
    {
      "cell_type": "code",
      "metadata": {
        "id": "9BAkJzy3Cr0J",
        "colab_type": "code",
        "outputId": "bd037fe3-da4f-48fe-ebe0-ac5532347300",
        "colab": {
          "base_uri": "https://localhost:8080/",
          "height": 198
        }
      },
      "source": [
        "del quora_train_set\n",
        "del quora_dataloader\n",
        "gc.collect()"
      ],
      "execution_count": 1,
      "outputs": [
        {
          "output_type": "error",
          "ename": "NameError",
          "evalue": "ignored",
          "traceback": [
            "\u001b[0;31m---------------------------------------------------------------------------\u001b[0m",
            "\u001b[0;31mNameError\u001b[0m                                 Traceback (most recent call last)",
            "\u001b[0;32m<ipython-input-1-69a22933e462>\u001b[0m in \u001b[0;36m<module>\u001b[0;34m()\u001b[0m\n\u001b[0;32m----> 1\u001b[0;31m \u001b[0;32mdel\u001b[0m \u001b[0mquora_train_set\u001b[0m\u001b[0;34m\u001b[0m\u001b[0;34m\u001b[0m\u001b[0m\n\u001b[0m\u001b[1;32m      2\u001b[0m \u001b[0;32mdel\u001b[0m \u001b[0mquora_dataloader\u001b[0m\u001b[0;34m\u001b[0m\u001b[0;34m\u001b[0m\u001b[0m\n\u001b[1;32m      3\u001b[0m \u001b[0mgc\u001b[0m\u001b[0;34m.\u001b[0m\u001b[0mcollect\u001b[0m\u001b[0;34m(\u001b[0m\u001b[0;34m)\u001b[0m\u001b[0;34m\u001b[0m\u001b[0;34m\u001b[0m\u001b[0m\n",
            "\u001b[0;31mNameError\u001b[0m: name 'quora_train_set' is not defined"
          ]
        }
      ]
    },
    {
      "cell_type": "code",
      "metadata": {
        "id": "bjspDwK-Uwz8",
        "colab_type": "code",
        "outputId": "5485dc31-3be0-464d-a955-2dd001d9c256",
        "colab": {
          "base_uri": "https://localhost:8080/",
          "height": 325
        }
      },
      "source": [
        "a = np.array(original_loss_array).reshape((len(original_loss_array),1))\n",
        "print(a.shape)\n",
        "b = np.array([float(i) for i in range(len(original_loss_array))]).reshape((len(original_loss_array),1))\n",
        "print(b.shape)\n",
        "\n",
        "data = pd.DataFrame(np.concatenate((a,b),axis=1), columns = [\"loss\",\"time\"])\n",
        "# data.head()\n",
        "ax = sns.lineplot(x=\"time\", y=\"loss\", data=data)"
      ],
      "execution_count": 39,
      "outputs": [
        {
          "output_type": "stream",
          "text": [
            "(360, 1)\n",
            "(360, 1)\n"
          ],
          "name": "stdout"
        },
        {
          "output_type": "display_data",
          "data": {
            "image/png": "[encoded data removed]",
            "text/plain": [
              "<Figure size 432x288 with 1 Axes>"
            ]
          },
          "metadata": {
            "tags": []
          }
        }
      ]
    },
    {
      "cell_type": "code",
      "metadata": {
        "id": "1BPtCE4KbeKU",
        "colab_type": "code",
        "outputId": "d227be2e-342d-41d6-95d3-ca79d10cf0e8",
        "colab": {
          "base_uri": "https://localhost:8080/",
          "height": 105
        }
      },
      "source": [
        "quora_test_set = QuoraDataset(X_test,y_test)\n",
        "quora_test_dataloader = DataLoader(quora_test_set, batch_size=50, shuffle=True)"
      ],
      "execution_count": 29,
      "outputs": [
        {
          "output_type": "stream",
          "text": [
            "Init QuoraDataset at: Thu Sep 19 13:23:51 2019\n"
          ],
          "name": "stdout"
        },
        {
          "output_type": "stream",
          "text": [
            "/usr/local/lib/python3.6/dist-packages/smart_open/smart_open_lib.py:398: UserWarning: This function is deprecated, use smart_open.open instead. See the migration notes for details: https://github.com/RaRe-Technologies/smart_open/blob/master/README.rst#migrating-to-the-new-open-function\n",
            "  'See the migration notes for details: %s' % _MIGRATION_NOTES_URL\n"
          ],
          "name": "stderr"
        },
        {
          "output_type": "stream",
          "text": [
            "Finish init QuoraDataset at: Thu Sep 19 13:28:44 2019\n"
          ],
          "name": "stdout"
        }
      ]
    },
    {
      "cell_type": "code",
      "metadata": {
        "id": "Tc2C0PHfIn-f",
        "colab_type": "code",
        "colab": {}
      },
      "source": [
        "def evaluate(quora_test_dataloader):\n",
        "  correct = 0\n",
        "  total = 0\n",
        "  with torch.no_grad():\n",
        "    for data in quora_test_dataloader:\n",
        "      # print(data[0].shape)\n",
        "      inputs, labels =  data\n",
        "      inputs, labels = inputs.cuda(), labels.cuda()\n",
        "      \n",
        "      outputs = net(inputs)\n",
        "      _, predicted = torch.max(outputs.data, 1)\n",
        "      total += labels.size(0)\n",
        "      correct += (predicted == labels).sum().item()\n",
        "\n",
        "  print('Accuracy of the network on the test sentences: %d %%' % (\n",
        "      100 * correct / total))"
      ],
      "execution_count": 0,
      "outputs": []
    },
    {
      "cell_type": "code",
      "metadata": {
        "id": "my80GqhuIyws",
        "colab_type": "code",
        "outputId": "075efa9d-7ac0-489c-f259-ea6f74bdcf0e",
        "colab": {
          "base_uri": "https://localhost:8080/",
          "height": 34
        }
      },
      "source": [
        "evaluate(quora_test_dataloader)"
      ],
      "execution_count": 31,
      "outputs": [
        {
          "output_type": "stream",
          "text": [
            "Accuracy of the network on the test sentences: 86 %\n"
          ],
          "name": "stdout"
        }
      ]
    },
    {
      "cell_type": "code",
      "metadata": {
        "id": "mLvvCPPadh4g",
        "colab_type": "code",
        "outputId": "989aaccb-72c8-4c98-e31c-a5979f70c07f",
        "colab": {
          "base_uri": "https://localhost:8080/",
          "height": 34
        }
      },
      "source": [
        "del quora_test_set\n",
        "del quora_test_dataloader\n",
        "gc.collect()"
      ],
      "execution_count": 32,
      "outputs": [
        {
          "output_type": "execute_result",
          "data": {
            "text/plain": [
              "0"
            ]
          },
          "metadata": {
            "tags": []
          },
          "execution_count": 32
        }
      ]
    },
    {
      "cell_type": "code",
      "metadata": {
        "id": "xw3WN7NeYgDz",
        "colab_type": "code",
        "colab": {}
      },
      "source": [
        "class QuoraNonStaticDataset(Dataset):\n",
        "  \n",
        "  def __init__(self,X_train,y_train):\n",
        "    print(\"Init QuoraNonStaticDataset at: \"+str(ctime()))\n",
        "    self.X_train = X_train\n",
        "    self.y_train = y_train\n",
        "    self.embeddings = self.get_wiki_news_embeddings()\n",
        "    print(\"Finish init QuoraNonStaticDataset at: \"+str(ctime()))\n",
        "\n",
        "  def get_glove_embeddings(self):\n",
        "    return KeyedVectors.load_word2vec_format(root_path+data_path+\"gensim_glove_vectors.txt\", binary=False)\n",
        "\n",
        "  def get_wiki_news_embeddings(self):\n",
        "    return KeyedVectors.load_word2vec_format(root_path+data_path+'wiki-news-300d-1M/wiki-news-300d-1M.vec', binary=False)\n",
        "\n",
        "  def __len__(self):\n",
        "    return len(self.y_train)\n",
        "\n",
        "  def __getitem__(self, idx):\n",
        "    X = self.prepare_data(self.X_train.iloc[idx:idx+1,:])\n",
        "    return (X,self.y_train.iloc[idx])\n",
        "\n",
        "  def prepare_data(self,X_train):\n",
        "    chosen_question_length = 32\n",
        "\n",
        "    X_train_vectorized = self.vectorize(X_train,chosen_question_length)\n",
        "\n",
        "    return X_train_vectorized\n",
        "\n",
        "  def vectorize(self,X,chosen_question_length):\n",
        "    X_vectorized = np.empty((X.shape[0],chosen_question_length),dtype=np.long)\n",
        "    for i in range(X.shape[0]):\n",
        "      current_sentence = word_tokenize(X.iloc[i]['question_text'])\n",
        "      for j in range(chosen_question_length):\n",
        "        if j<len(current_sentence) and current_sentence[j] in self.embeddings:\n",
        "          X_vectorized[i,j] = self.embeddings.vocab[current_sentence[j]].index\n",
        "        else:\n",
        "          X_vectorized[i,j] = 0\n",
        "    return X_vectorized"
      ],
      "execution_count": 0,
      "outputs": []
    },
    {
      "cell_type": "code",
      "metadata": {
        "id": "Ivm8FLTIc4rk",
        "colab_type": "code",
        "outputId": "e7459156-2dac-4b38-a892-18ab06909393",
        "colab": {
          "base_uri": "https://localhost:8080/",
          "height": 105
        }
      },
      "source": [
        "non_static_dataset = QuoraNonStaticDataset(X_train,y_train)"
      ],
      "execution_count": 25,
      "outputs": [
        {
          "output_type": "stream",
          "text": [
            "Init QuoraNonStaticDataset at: Thu Sep 19 15:40:55 2019\n"
          ],
          "name": "stdout"
        },
        {
          "output_type": "stream",
          "text": [
            "/usr/local/lib/python3.6/dist-packages/smart_open/smart_open_lib.py:398: UserWarning: This function is deprecated, use smart_open.open instead. See the migration notes for details: https://github.com/RaRe-Technologies/smart_open/blob/master/README.rst#migrating-to-the-new-open-function\n",
            "  'See the migration notes for details: %s' % _MIGRATION_NOTES_URL\n"
          ],
          "name": "stderr"
        },
        {
          "output_type": "stream",
          "text": [
            "Finish init QuoraNonStaticDataset at: Thu Sep 19 15:45:49 2019\n"
          ],
          "name": "stdout"
        }
      ]
    },
    {
      "cell_type": "code",
      "metadata": {
        "id": "rN5eq6jdMIPk",
        "colab_type": "code",
        "colab": {}
      },
      "source": [
        "train_loader = DataLoader(non_static_dataset, shuffle=True, batch_size=50)"
      ],
      "execution_count": 0,
      "outputs": []
    },
    {
      "cell_type": "code",
      "metadata": {
        "id": "m8RRdxGSWSKJ",
        "colab_type": "code",
        "colab": {}
      },
      "source": [
        "class QIQRNN(nn.Module):\n",
        "  def __init__(self, output_size, hidden_dim, n_layers, drop_prob=0.5):\n",
        "    super(QIQRNN, self).__init__()\n",
        "    print(\"Init QIQRNN at: \"+str(ctime()))\n",
        "\n",
        "    self.n_layers = n_layers\n",
        "    self.hidden_dim = hidden_dim\n",
        "\n",
        "    # embedding and LSTM layers\n",
        "    self.embedding = nn.Embedding.from_pretrained(self.get_wiki_news_embeddings(), freeze=False)\n",
        "    self.lstm = nn.LSTM(300, hidden_dim, n_layers,dropout=drop_prob, batch_first=True)\n",
        "\n",
        "    # dropout layer\n",
        "    self.dropout = nn.Dropout(0.3)\n",
        "\n",
        "    # linear and sigmoid layers\n",
        "    self.fc = nn.Linear(hidden_dim, 2)\n",
        "    self.sig = nn.Sigmoid()\n",
        "    print(\"Finished init QIQRNN at: \"+str(ctime()))\n",
        "\n",
        "  def forward(self, x, hidden):\n",
        "    batch_size = x.size(0)\n",
        "\n",
        "    # embeddings and lstm_out\n",
        "    embeds = self.embedding(x)\n",
        "    lstm_out, hidden = self.lstm(embeds, hidden)\n",
        "\n",
        "    # stack up lstm outputs\n",
        "    lstm_out = lstm_out.contiguous().view(-1, self.hidden_dim)\n",
        "\n",
        "    # dropout and fully-connected layer\n",
        "    out = self.dropout(lstm_out)\n",
        "    out = self.fc(out)\n",
        "\n",
        "    # sigmoid function\n",
        "    sig_out = self.sig(out)\n",
        "\n",
        "    # reshape to be batch_size first\n",
        "    sig_out = sig_out.view(batch_size, -1)\n",
        "    sig_out = sig_out[:, -1] # get last batch of labels\n",
        "\n",
        "    # return last sigmoid output and hidden state\n",
        "    return sig_out, hidden\n",
        "\n",
        "  def init_hidden(self, batch_size):\n",
        "    # Create two new tensors with sizes n_layers x batch_size x hidden_dim,\n",
        "    # initialized to zero, for hidden state and cell state of LSTM\n",
        "    weight = next(self.parameters()).data\n",
        "\n",
        "    hidden = (weight.new(self.n_layers, batch_size, self.hidden_dim).zero_().cuda(),weight.new(self.n_layers, batch_size, self.hidden_dim).zero_().cuda())\n",
        "    return hidden\n",
        "\n",
        "  def get_glove_embeddings(self):\n",
        "    embd = KeyedVectors.load_word2vec_format(root_path+data_path+\"gensim_glove_vectors.txt\", binary=False)\n",
        "    embd = torch.from_numpy(embd.vectors)\n",
        "    return embd\n",
        "  \n",
        "  def get_wiki_news_embeddings(self):\n",
        "    embd = KeyedVectors.load_word2vec_format(root_path+data_path+'wiki-news-300d-1M/wiki-news-300d-1M.vec', binary=False)\n",
        "    embd = torch.from_numpy(embd.vectors)\n",
        "    return embd\n",
        "    "
      ],
      "execution_count": 0,
      "outputs": []
    },
    {
      "cell_type": "code",
      "metadata": {
        "id": "rCUvGijEeApd",
        "colab_type": "code",
        "outputId": "4ff92d94-cee4-467f-ef7b-ce4bdacbe83e",
        "colab": {
          "base_uri": "https://localhost:8080/",
          "height": 224
        }
      },
      "source": [
        "output_size = 1\n",
        "hidden_dim = 256\n",
        "n_layers = 2\n",
        "net = QIQRNN(output_size, hidden_dim, n_layers).cuda()     # -- For GPU\n",
        "print(net)"
      ],
      "execution_count": 28,
      "outputs": [
        {
          "output_type": "stream",
          "text": [
            "Init QIQRNN at: Thu Sep 19 15:46:04 2019\n"
          ],
          "name": "stdout"
        },
        {
          "output_type": "stream",
          "text": [
            "/usr/local/lib/python3.6/dist-packages/smart_open/smart_open_lib.py:398: UserWarning: This function is deprecated, use smart_open.open instead. See the migration notes for details: https://github.com/RaRe-Technologies/smart_open/blob/master/README.rst#migrating-to-the-new-open-function\n",
            "  'See the migration notes for details: %s' % _MIGRATION_NOTES_URL\n"
          ],
          "name": "stderr"
        },
        {
          "output_type": "stream",
          "text": [
            "Finished init QIQRNN at: Thu Sep 19 15:50:54 2019\n",
            "QIQRNN(\n",
            "  (embedding): Embedding(999994, 300)\n",
            "  (lstm): LSTM(300, 256, num_layers=2, batch_first=True, dropout=0.5)\n",
            "  (dropout): Dropout(p=0.3)\n",
            "  (fc): Linear(in_features=256, out_features=2, bias=True)\n",
            "  (sig): Sigmoid()\n",
            ")\n"
          ],
          "name": "stdout"
        }
      ]
    },
    {
      "cell_type": "code",
      "metadata": {
        "id": "zyPxVlkzbI-3",
        "colab_type": "code",
        "outputId": "999e68be-d0b4-4c59-ac17-7b9dfc68c557",
        "colab": {
          "base_uri": "https://localhost:8080/",
          "height": 34
        }
      },
      "source": [
        "torch.cuda.is_available()"
      ],
      "execution_count": 29,
      "outputs": [
        {
          "output_type": "execute_result",
          "data": {
            "text/plain": [
              "True"
            ]
          },
          "metadata": {
            "tags": []
          },
          "execution_count": 29
        }
      ]
    },
    {
      "cell_type": "code",
      "metadata": {
        "id": "rBQpI0XYk6-P",
        "colab_type": "code",
        "colab": {}
      },
      "source": [
        "criterion = nn.BCELoss()\n",
        "optimizer = torch.optim.Adam(net.parameters())"
      ],
      "execution_count": 0,
      "outputs": []
    },
    {
      "cell_type": "code",
      "metadata": {
        "id": "-CVcqBBMHTIk",
        "colab_type": "code",
        "colab": {}
      },
      "source": [
        "# training loop\n",
        "def train(net, trainloader, epochs=5):\n",
        "  counter = 0\n",
        "  batch_size = 50\n",
        "  print_every = 200\n",
        "  clip=5 # gradient clipping\n",
        "  loss_array = []\n",
        "  loss_time_array = []\n",
        "\n",
        "  # net.train()\n",
        "\n",
        "  for epoch in range(epochs):  \n",
        "    # torch.save(net.state_dict(), root_path+data_path+'rnn_model')\n",
        "    h = net.init_hidden(batch_size)\n",
        "\n",
        "    running_loss = 0.0\n",
        "    for i, data in enumerate(trainloader, 0):\n",
        "        # get the inputs\n",
        "        # print(\"Data Loading starts at: \"+str(ctime()))\n",
        "        # print(data[0].shape)\n",
        "        counter += 1\n",
        "        inputs, labels = data\n",
        "\n",
        "        # print(\"Finished fetching \"+str(len(inputs))+\" items at: \"+str(ctime()))\n",
        "\n",
        "        inputs = inputs.squeeze()\n",
        "        labels = labels.cuda() # -- For GPU\n",
        "\n",
        "        # forward + backward + optimize\n",
        "\n",
        "        if (inputs.shape[0]<batch_size):\n",
        "          continue\n",
        "\n",
        "        # print(inputs.shape)\n",
        "        # print(inputs[0])\n",
        "        inputs_long = torch.LongTensor(inputs).cuda() # -- For GPU\n",
        "\n",
        "        # print(\"Forward starts at: \"+str(ctime()))\n",
        "        h = tuple([each.data for each in h])\n",
        "\n",
        "        # zero the parameter gradients\n",
        "        net.zero_grad()\n",
        "\n",
        "        output, h = net(inputs_long, h)\n",
        "\n",
        "        # print(\"Loss starts at: \"+str(ctime()))\n",
        "        loss = criterion(output.squeeze(), labels.float())\n",
        "\n",
        "        # print(\"Backward starts at: \"+str(ctime()))\n",
        "        loss.backward()\n",
        "\n",
        "        # print(\"Optimizer starts at: \"+str(ctime()))\n",
        "        nn.utils.clip_grad_norm_(net.parameters(), clip)\n",
        "        optimizer.step()\n",
        "        # print(\"Optimizer ends at: \"+str(ctime()))\n",
        "\n",
        "        running_loss += loss.item()\n",
        "        if (i % 200 == 0) and (i > 0):    \n",
        "            print('%s: [%d, %5d] loss: %.3f' %\n",
        "                  (ctime().split()[3], epoch, i, running_loss / 200))\n",
        "\n",
        "            loss_array.append(running_loss / 200)\n",
        "            loss_time_array.append(ctime().split()[3])\n",
        "            running_loss = 0.0\n",
        "        # print(\"Step ends at: \"+str(ctime()+\"\\n\"))\n",
        "             \n",
        "  print('Finished Training')\n",
        "  return loss_array, loss_time_array"
      ],
      "execution_count": 0,
      "outputs": []
    },
    {
      "cell_type": "code",
      "metadata": {
        "id": "Qt8Loxd7k9Is",
        "colab_type": "code",
        "outputId": "520942ea-27cf-456c-b8f7-de816d48c491",
        "colab": {
          "base_uri": "https://localhost:8080/",
          "height": 1000
        }
      },
      "source": [
        "rnn_loss_array, rnn_loss_time_array = train(net, train_loader)\n",
        "save_obj(net, 'net_lstm_rnn')\n",
        "save_obj(rnn_loss_array, 'rnn_loss_array')\n",
        "save_obj(rnn_loss_array, 'rnn_loss_time_array')\n",
        "# net = load_obj('net_lstm_rnn')\n"
      ],
      "execution_count": 34,
      "outputs": [
        {
          "output_type": "stream",
          "text": [
            "16:00:56: [0,   200] loss: 0.269\n",
            "16:01:46: [0,   400] loss: 0.275\n",
            "16:02:37: [0,   600] loss: 0.270\n",
            "16:03:28: [0,   800] loss: 0.272\n",
            "16:04:19: [0,  1000] loss: 0.274\n",
            "16:05:10: [0,  1200] loss: 0.262\n",
            "16:06:01: [0,  1400] loss: 0.261\n",
            "16:06:52: [0,  1600] loss: 0.268\n",
            "16:07:42: [0,  1800] loss: 0.269\n",
            "16:08:33: [0,  2000] loss: 0.284\n",
            "16:09:24: [0,  2200] loss: 0.269\n",
            "16:10:15: [0,  2400] loss: 0.273\n",
            "16:11:53: [1,   200] loss: 0.202\n",
            "16:12:44: [1,   400] loss: 0.202\n",
            "16:13:35: [1,   600] loss: 0.213\n",
            "16:14:26: [1,   800] loss: 0.206\n",
            "16:15:17: [1,  1000] loss: 0.200\n",
            "16:16:08: [1,  1200] loss: 0.208\n",
            "16:16:59: [1,  1400] loss: 0.206\n",
            "16:17:50: [1,  1600] loss: 0.214\n",
            "16:18:41: [1,  1800] loss: 0.197\n",
            "16:19:32: [1,  2000] loss: 0.224\n",
            "16:20:22: [1,  2200] loss: 0.217\n",
            "16:21:13: [1,  2400] loss: 0.212\n",
            "16:22:52: [2,   200] loss: 0.163\n",
            "16:23:43: [2,   400] loss: 0.159\n",
            "16:24:33: [2,   600] loss: 0.155\n",
            "16:25:24: [2,   800] loss: 0.152\n",
            "16:26:15: [2,  1000] loss: 0.162\n",
            "16:27:06: [2,  1200] loss: 0.166\n",
            "16:27:57: [2,  1400] loss: 0.159\n",
            "16:28:48: [2,  1600] loss: 0.169\n",
            "16:29:39: [2,  1800] loss: 0.166\n",
            "16:30:30: [2,  2000] loss: 0.176\n",
            "16:31:21: [2,  2200] loss: 0.172\n",
            "16:32:11: [2,  2400] loss: 0.172\n",
            "16:33:49: [3,   200] loss: 0.127\n",
            "16:34:40: [3,   400] loss: 0.132\n",
            "16:35:31: [3,   600] loss: 0.128\n",
            "16:36:22: [3,   800] loss: 0.121\n",
            "16:37:13: [3,  1000] loss: 0.124\n",
            "16:38:03: [3,  1200] loss: 0.132\n",
            "16:38:54: [3,  1400] loss: 0.127\n",
            "16:39:45: [3,  1600] loss: 0.134\n",
            "16:40:36: [3,  1800] loss: 0.126\n",
            "16:41:27: [3,  2000] loss: 0.143\n",
            "16:42:18: [3,  2200] loss: 0.127\n",
            "16:43:09: [3,  2400] loss: 0.135\n",
            "16:44:47: [4,   200] loss: 0.092\n",
            "16:45:38: [4,   400] loss: 0.102\n",
            "16:46:29: [4,   600] loss: 0.098\n",
            "16:47:20: [4,   800] loss: 0.099\n",
            "16:48:11: [4,  1000] loss: 0.096\n",
            "16:49:02: [4,  1200] loss: 0.098\n",
            "16:49:53: [4,  1400] loss: 0.106\n",
            "16:50:44: [4,  1600] loss: 0.106\n",
            "16:51:35: [4,  1800] loss: 0.103\n",
            "16:52:26: [4,  2000] loss: 0.113\n",
            "16:53:17: [4,  2200] loss: 0.110\n",
            "16:54:08: [4,  2400] loss: 0.108\n",
            "Finished Training\n"
          ],
          "name": "stdout"
        }
      ]
    },
    {
      "cell_type": "code",
      "metadata": {
        "id": "o-8rrbRLXwg9",
        "colab_type": "code",
        "colab": {}
      },
      "source": [
        ""
      ],
      "execution_count": 0,
      "outputs": []
    },
    {
      "cell_type": "code",
      "metadata": {
        "id": "HtEWGuei-Mrr",
        "colab_type": "code",
        "colab": {
          "base_uri": "https://localhost:8080/",
          "height": 308
        },
        "outputId": "50a841af-ae11-4039-cead-88fae8263dc7"
      },
      "source": [
        "a = np.array(rnn_loss_array).reshape((len(rnn_loss_array),1))\n",
        "b = np.array([float(i) for i in range(len(rnn_loss_array))]).reshape((len(rnn_loss_array),1))\n",
        "print(b.shape)\n",
        "\n",
        "data = pd.DataFrame(np.concatenate((a,b),axis=1), columns = [\"loss\",\"time\"])\n",
        "# data.head()\n",
        "ax = sns.lineplot(x=\"time\", y=\"loss\", data=data)"
      ],
      "execution_count": 37,
      "outputs": [
        {
          "output_type": "stream",
          "text": [
            "(60, 1)\n"
          ],
          "name": "stdout"
        },
        {
          "output_type": "display_data",
          "data": {
            "image/png": "[encoded data removed]",
            "text/plain": [
              "<Figure size 432x288 with 1 Axes>"
            ]
          },
          "metadata": {
            "tags": []
          }
        }
      ]
    },
    {
      "cell_type": "code",
      "metadata": {
        "id": "OAqgvqmb8FFK",
        "colab_type": "code",
        "colab": {
          "base_uri": "https://localhost:8080/",
          "height": 34
        },
        "outputId": "46d24ba4-c93b-4356-a9bc-15239e518f37"
      },
      "source": [
        "del non_static_dataset\n",
        "del train_loader\n",
        "gc.collect()"
      ],
      "execution_count": 38,
      "outputs": [
        {
          "output_type": "execute_result",
          "data": {
            "text/plain": [
              "1000626"
            ]
          },
          "metadata": {
            "tags": []
          },
          "execution_count": 38
        }
      ]
    },
    {
      "cell_type": "code",
      "metadata": {
        "id": "R6I4fLhrpoGF",
        "colab_type": "code",
        "colab": {
          "base_uri": "https://localhost:8080/",
          "height": 105
        },
        "outputId": "e4b85e2e-7c70-4de8-fc54-bd441bf1f55a"
      },
      "source": [
        "non_static_test_set = QuoraNonStaticDataset(X_test,y_test)\n",
        "test_loader = DataLoader(non_static_test_set, shuffle=True, batch_size=50)"
      ],
      "execution_count": 39,
      "outputs": [
        {
          "output_type": "stream",
          "text": [
            "Init QuoraNonStaticDataset at: Thu Sep 19 17:03:45 2019\n"
          ],
          "name": "stdout"
        },
        {
          "output_type": "stream",
          "text": [
            "/usr/local/lib/python3.6/dist-packages/smart_open/smart_open_lib.py:398: UserWarning: This function is deprecated, use smart_open.open instead. See the migration notes for details: https://github.com/RaRe-Technologies/smart_open/blob/master/README.rst#migrating-to-the-new-open-function\n",
            "  'See the migration notes for details: %s' % _MIGRATION_NOTES_URL\n"
          ],
          "name": "stderr"
        },
        {
          "output_type": "stream",
          "text": [
            "Finish init QuoraNonStaticDataset at: Thu Sep 19 17:08:39 2019\n"
          ],
          "name": "stdout"
        }
      ]
    },
    {
      "cell_type": "code",
      "metadata": {
        "id": "DZiN0Hkf8VpZ",
        "colab_type": "code",
        "colab": {}
      },
      "source": [
        "def evaluate(quora_test_dataloader):\n",
        "  correct = 0\n",
        "  total = 0\n",
        "  with torch.no_grad():\n",
        "    h = net.init_hidden(50)\n",
        "    for data in quora_test_dataloader:\n",
        "      # print(data[0].shape)\n",
        "      inputs, labels =  data\n",
        "      inputs, labels =  inputs.squeeze(), labels.cuda()\n",
        "      if (inputs.shape[0]<50):\n",
        "        continue   \n",
        "      inputs_long = torch.LongTensor(inputs).cuda() # -- For GPU\n",
        "\n",
        "      outputs, h = net(inputs_long, h)\n",
        "      # print(outputs)\n",
        "      predicted = torch.round(outputs.squeeze()).long()\n",
        "      # _, predicted = torch.max(outputs.data, 1)\n",
        "      # print(predicted)\n",
        "      total += labels.size(0)\n",
        "      correct += (predicted == labels).sum().item()\n",
        "\n",
        "  print('Accuracy of the network on the test sentences: %d %%' % (\n",
        "      100 * correct / total))"
      ],
      "execution_count": 0,
      "outputs": []
    },
    {
      "cell_type": "code",
      "metadata": {
        "id": "pvYI0npQ8eqj",
        "colab_type": "code",
        "colab": {
          "base_uri": "https://localhost:8080/",
          "height": 34
        },
        "outputId": "c53e9b0d-b09e-4346-d9a0-a557295f762f"
      },
      "source": [
        "evaluate(test_loader)"
      ],
      "execution_count": 41,
      "outputs": [
        {
          "output_type": "stream",
          "text": [
            "Accuracy of the network on the test sentences: 87 %\n"
          ],
          "name": "stdout"
        }
      ]
    },
    {
      "cell_type": "code",
      "metadata": {
        "id": "ifeMS6FITS1E",
        "colab_type": "code",
        "colab": {}
      },
      "source": [
        ""
      ],
      "execution_count": 0,
      "outputs": []
    }
  ]
}