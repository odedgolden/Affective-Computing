{
  "nbformat": 4,
  "nbformat_minor": 0,
  "metadata": {
    "colab": {
      "name": "DimensionsOfEmotions.ipynb",
      "provenance": [],
      "private_outputs": true,
      "authorship_tag": "ABX9TyMGJ1eG6wYBhII1HYKCE59z",
      "include_colab_link": true
    },
    "kernelspec": {
      "name": "python3",
      "display_name": "Python 3"
    }
  },
  "cells": [
    {
      "cell_type": "markdown",
      "metadata": {
        "id": "view-in-github",
        "colab_type": "text"
      },
      "source": [
        "<a href=\"https://colab.research.google.com/github/odedgolden/Affective-Computing/blob/master/DimensionsOfEmotions.ipynb\" target=\"_parent\"><img src=\"https://colab.research.google.com/assets/colab-badge.svg\" alt=\"Open In Colab\"/></a>"
      ]
    },
    {
      "cell_type": "code",
      "metadata": {
        "id": "ZcMitVOPRKno",
        "colab_type": "code",
        "colab": {}
      },
      "source": [
        "# imports\n",
        "\n",
        "import matplotlib.pyplot as plt\n",
        "import seaborn as sns\n",
        "%matplotlib inline\n",
        "\n",
        "import numpy as np\n",
        "import pandas as pd\n",
        "from gensim.models import Word2Vec\n",
        "import gensim.downloader as api\n",
        "from sklearn.decomposition import TruncatedSVD, PCA\n",
        "import random"
      ],
      "execution_count": 0,
      "outputs": []
    },
    {
      "cell_type": "code",
      "metadata": {
        "id": "QSrfA7lUY9-k",
        "colab_type": "code",
        "colab": {}
      },
      "source": [
        "def load(model_name):\n",
        "  '''\n",
        "  Downloading and loading model into memory, as a dictionary of arrays, the keys are the words.\n",
        "  '''\n",
        "  wv_from_bin = api.load(model_name)\n",
        "  vocab = list(wv_from_bin.vocab.keys())\n",
        "  print(\"Loaded vocab size %i\" % len(vocab))\n",
        "  return wv_from_bin\n",
        "  "
      ],
      "execution_count": 0,
      "outputs": []
    },
    {
      "cell_type": "code",
      "metadata": {
        "id": "DN0d4MmWZPdN",
        "colab_type": "code",
        "colab": {}
      },
      "source": [
        "model_names = [\"glove-wiki-gigaword-300\",\"glove-wiki-gigaword-50\",\"word2vec-google-news-300\",\"glove-twitter-200\",\"fasttext-wiki-news-subwords-300\"]\n",
        "model = load(model_names[0])"
      ],
      "execution_count": 0,
      "outputs": []
    },
    {
      "cell_type": "code",
      "metadata": {
        "id": "RnzNE_THZNe7",
        "colab_type": "code",
        "colab": {}
      },
      "source": [
        "def reduce_dim(model, number_of_vectors=10000, required_words=[\"car\"],n_components=2):\n",
        "  '''\n",
        "  A function that takes a model and reduces it to 3D vectors. \n",
        "  Since the reduction procedure is pretty heavy and might take a lot of time, this\n",
        "  function recieves two additional parameters:\n",
        "  number_of_vectors: you should first truncate your model to only this number of vectors. Make sure to shuffle the model first, so that you choose random vectors.\n",
        "  required_words: in addition to the number_of_vectors vectors you keep, you should keep the vectors of these words.\n",
        "  Return the new, reduced model.\n",
        "  '''\n",
        "  model_list = list(model.vocab.keys())\n",
        "  random.shuffle(model_list)\n",
        "  short_list = list(required_words)\n",
        "  i = 0\n",
        "  while len(short_list) < number_of_vectors:\n",
        "    short_list.append(model_list[i])\n",
        "    # print(model_list[i])\n",
        "    i = i + 1\n",
        "  print(len(short_list))\n",
        "  X = []\n",
        "  for word in short_list:\n",
        "    X.append(model[word])\n",
        "  print(len(X))\n",
        "  reducer = PCA(n_components=n_components)\n",
        "  reduced_model = reducer.fit_transform(X)\n",
        "  reduced_dict = {short_list[i]:reduced_model[i] for i in range(len(short_list))}\n",
        "\n",
        "  return reduced_dict"
      ],
      "execution_count": 0,
      "outputs": []
    },
    {
      "cell_type": "code",
      "metadata": {
        "id": "VPXdnaRNF1Jy",
        "colab_type": "code",
        "colab": {}
      },
      "source": [
        "model_list = list(model.vocab.keys())\n",
        "len(model_list)"
      ],
      "execution_count": 0,
      "outputs": []
    },
    {
      "cell_type": "code",
      "metadata": {
        "id": "KeoMqBt7ZSUH",
        "colab_type": "code",
        "colab": {}
      },
      "source": [
        "number_of_vectors = 400000\n",
        "required_words = ('admiration', 'adoration', 'appreciation',  'amusement', 'anger', 'anxiety', 'awe', 'awkwardness', 'boredom',  'calmness', 'confusion', 'craving', 'disgust', 'pain',  'delectation', 'excitement', 'fear', 'horror', 'interest', 'joy', 'nostalgia',  'relief', 'romance', 'sadness', 'satisfaction', 'desire', 'surprise')\n",
        "\n",
        "reduced_model = reduce_dim(model,number_of_vectors=number_of_vectors,required_words=required_words,n_components=3)"
      ],
      "execution_count": 0,
      "outputs": []
    },
    {
      "cell_type": "code",
      "metadata": {
        "id": "IAzvh2CNcJDL",
        "colab_type": "code",
        "colab": {}
      },
      "source": [
        "len(reduced_model.keys())"
      ],
      "execution_count": 0,
      "outputs": []
    },
    {
      "cell_type": "code",
      "metadata": {
        "id": "nLeJlYTaf3IG",
        "colab_type": "code",
        "colab": {}
      },
      "source": [
        "words_embeddings = {word:reduced_model[word] for word in required_words}\n",
        "df = pd.DataFrame(data=words_embeddings).T\n",
        "df.columns =['a', 'b','c']"
      ],
      "execution_count": 0,
      "outputs": []
    },
    {
      "cell_type": "code",
      "metadata": {
        "id": "9jak19nkhFpq",
        "colab_type": "code",
        "colab": {}
      },
      "source": [
        "df.head(30)"
      ],
      "execution_count": 0,
      "outputs": []
    },
    {
      "cell_type": "code",
      "metadata": {
        "id": "1-YdW27ifaGv",
        "colab_type": "code",
        "colab": {}
      },
      "source": [
        "def show_embeddings(data, labels):\n",
        "    plt.figure(figsize=(18, 16), dpi= 80)\n",
        "    plt.scatter(data[:, 0], data[:, 1], marker='o')\n",
        "\n",
        "    for label, x, y in zip(labels, data[:, 0], data[:, 1]):\n",
        "        plt.annotate(\n",
        "            label,\n",
        "            xy=(x, y), xytext=(-20, 20),\n",
        "            textcoords='offset points', ha='right', va='bottom',\n",
        "            bbox=dict(boxstyle='round,pad=0.5', fc='yellow', alpha=0.2),\n",
        "            arrowprops=dict(arrowstyle = '->', connectionstyle='arc3,rad=0'))\n",
        "\n",
        "# Testing  \n",
        "labels = ['admiration', 'adoration', 'appreciation',  'amusement', 'anger', 'anxiety', 'awe', 'awkwardness', 'boredom',  'calmness', 'confusion', 'craving', 'disgust', 'pain',  'delectation', 'excitement', 'fear', 'horror', 'interest', 'joy', 'nostalgia',  'relief', 'romance', 'sadness', 'satisfaction', 'desire', 'surprise']\n",
        "\n",
        "print(len(labels))\n",
        "vectors = np.array([reduced_model[word] for word in list(labels)])\n",
        "# vectors\n",
        "show_embeddings(vectors, labels)"
      ],
      "execution_count": 0,
      "outputs": []
    },
    {
      "cell_type": "code",
      "metadata": {
        "id": "UJ4X8zMslceF",
        "colab_type": "code",
        "colab": {}
      },
      "source": [
        "from mpl_toolkits.mplot3d import Axes3D  # noqa: F401 unused import\n",
        "\n",
        "ax = plt.figure(figsize=(30,20)).gca(projection='3d')\n",
        "ax.scatter(\n",
        "    xs=df[\"a\"], \n",
        "    ys=df[\"b\"], \n",
        "    zs=df[\"c\"], \n",
        "    cmap='tab10',\n",
        "    c = [float(i)/(27) for i in range(27)]\n",
        ")\n",
        "\n",
        "\n",
        "for label, x, y, z in zip(df.index, df['a'], df['b'], df['c']):\n",
        "    ax.text(x, y, z, label)\n",
        "\n",
        "ax.set_xlabel('pca-one')\n",
        "ax.set_ylabel('pca-two')\n",
        "ax.set_zlabel('pca-three')\n",
        "plt.show()"
      ],
      "execution_count": 0,
      "outputs": []
    },
    {
      "cell_type": "code",
      "metadata": {
        "id": "7pMefTpbfbCe",
        "colab_type": "code",
        "colab": {}
      },
      "source": [
        ""
      ],
      "execution_count": 0,
      "outputs": []
    }
  ]
}